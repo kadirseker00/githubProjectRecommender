{
 "cells": [
  {
   "cell_type": "code",
   "execution_count": 1,
   "metadata": {},
   "outputs": [],
   "source": [
    "import pandas as pd\n",
    "import numpy as np\n",
    "from sklearn.preprocessing import MinMaxScaler\n",
    "from sklearn.metrics.pairwise import cosine_similarity\n",
    "from sklearn.preprocessing import Normalizer\n",
    "import matplotlib.pyplot as plt\n",
    "from sklearn.feature_extraction.text import TfidfVectorizer"
   ]
  },
  {
   "cell_type": "code",
   "execution_count": 2,
   "metadata": {},
   "outputs": [],
   "source": [
    "def tfidf_similarity_function (data,column_name):\n",
    "    vect = TfidfVectorizer(analyzer='word', binary=False, decode_error='strict',\n",
    "            encoding='utf-8', input='content',\n",
    "            lowercase=True, max_df=1.0, max_features=None, min_df=0.0,\n",
    "            ngram_range=(1, 1), norm='l2', preprocessor=None, smooth_idf=True,\n",
    "            stop_words=None, strip_accents=None, sublinear_tf=False,\n",
    "            token_pattern='(?u)\\\\b\\\\w\\\\w+\\\\b', tokenizer=None, use_idf=True,\n",
    "            vocabulary=None)\n",
    "    vect = TfidfVectorizer()                                                                                                                                                                                                   \n",
    "    tfidf = vect.fit_transform(data[column_name].values.astype('U'))                                                                                                                                                                                                                       \n",
    "    pairwise_similarity = tfidf * tfidf.T\n",
    "    return pairwise_similarity.toarray()"
   ]
  },
  {
   "cell_type": "code",
   "execution_count": 3,
   "metadata": {},
   "outputs": [],
   "source": [
    "def select_related_repos(repo_matrix):\n",
    "    temp = pd.DataFrame(data=repo_matrix.index.tolist(), columns= ['full_name'])\n",
    "    temp2 = pd.merge(temp, repo_full_names, how=\"left\", on=['full_name'])\n",
    "    selected = pd.merge(temp2, df_comments, how=\"left\", on=['repo_id'])\n",
    "    return selected"
   ]
  },
  {
   "cell_type": "code",
   "execution_count": 4,
   "metadata": {},
   "outputs": [
    {
     "data": {
      "text/html": [
       "<div>\n",
       "<style scoped>\n",
       "    .dataframe tbody tr th:only-of-type {\n",
       "        vertical-align: middle;\n",
       "    }\n",
       "\n",
       "    .dataframe tbody tr th {\n",
       "        vertical-align: top;\n",
       "    }\n",
       "\n",
       "    .dataframe thead th {\n",
       "        text-align: right;\n",
       "    }\n",
       "</style>\n",
       "<table border=\"1\" class=\"dataframe\">\n",
       "  <thead>\n",
       "    <tr style=\"text-align: right;\">\n",
       "      <th></th>\n",
       "      <th>repo_id</th>\n",
       "      <th>user_id</th>\n",
       "      <th>num_commit_committed</th>\n",
       "      <th>num_commit_authored</th>\n",
       "      <th>num_commit_commented</th>\n",
       "      <th>num_issue_opened</th>\n",
       "      <th>num_issue_closed</th>\n",
       "      <th>num_issue_assigned</th>\n",
       "      <th>num_issue_commented</th>\n",
       "      <th>num_issue_closedwithPR</th>\n",
       "      <th>num_pr_opened</th>\n",
       "      <th>num_pr_merged</th>\n",
       "      <th>num_pr_assigned</th>\n",
       "      <th>num_pr_commented</th>\n",
       "      <th>count</th>\n",
       "      <th>O_num_commit_committed</th>\n",
       "      <th>O_num_commit_authored</th>\n",
       "      <th>O_num_commit_commented</th>\n",
       "      <th>O_num_issue_opened</th>\n",
       "      <th>O_num_issue_closed</th>\n",
       "      <th>O_num_issue_assigned</th>\n",
       "      <th>O_num_issue_closedPR</th>\n",
       "      <th>O_num_issue_commented</th>\n",
       "      <th>O_num_pr_opened</th>\n",
       "      <th>O_num_pr_assigned</th>\n",
       "      <th>O_num_pr_merged</th>\n",
       "      <th>O_num_pr_commented</th>\n",
       "      <th>isin_top_lang_owned</th>\n",
       "      <th>isin_top_lang_committed</th>\n",
       "      <th>isin_top_lang_watched</th>\n",
       "      <th>code_contributions</th>\n",
       "      <th>comments</th>\n",
       "      <th>commit_2_comment</th>\n",
       "      <th>issue_2_comment</th>\n",
       "      <th>pr_2_comment</th>\n",
       "      <th>code_2_comment</th>\n",
       "      <th>comment_2_code</th>\n",
       "      <th>issue_related</th>\n",
       "      <th>pr_related</th>\n",
       "      <th>commit_related</th>\n",
       "      <th>binary_count</th>\n",
       "      <th>binary_code_contributions</th>\n",
       "      <th>binary_comments</th>\n",
       "      <th>binary_issue_related</th>\n",
       "      <th>binary_pr_related</th>\n",
       "      <th>binary_commit_related</th>\n",
       "    </tr>\n",
       "  </thead>\n",
       "  <tbody>\n",
       "    <tr>\n",
       "      <th>0</th>\n",
       "      <td>1</td>\n",
       "      <td>21</td>\n",
       "      <td>NaN</td>\n",
       "      <td>NaN</td>\n",
       "      <td>NaN</td>\n",
       "      <td>2.0</td>\n",
       "      <td>NaN</td>\n",
       "      <td>NaN</td>\n",
       "      <td>17.0</td>\n",
       "      <td>1.0</td>\n",
       "      <td>1.0</td>\n",
       "      <td>NaN</td>\n",
       "      <td>NaN</td>\n",
       "      <td>NaN</td>\n",
       "      <td>21.0</td>\n",
       "      <td>NaN</td>\n",
       "      <td>NaN</td>\n",
       "      <td>NaN</td>\n",
       "      <td>0.010695</td>\n",
       "      <td>NaN</td>\n",
       "      <td>NaN</td>\n",
       "      <td>0.053476</td>\n",
       "      <td>0.034623</td>\n",
       "      <td>0.009804</td>\n",
       "      <td>NaN</td>\n",
       "      <td>NaN</td>\n",
       "      <td>NaN</td>\n",
       "      <td>1.0</td>\n",
       "      <td>1.0</td>\n",
       "      <td>1.0</td>\n",
       "      <td>4.0</td>\n",
       "      <td>17.0</td>\n",
       "      <td>NaN</td>\n",
       "      <td>0.117647</td>\n",
       "      <td>NaN</td>\n",
       "      <td>NaN</td>\n",
       "      <td>NaN</td>\n",
       "      <td>20.0</td>\n",
       "      <td>1.0</td>\n",
       "      <td>0.0</td>\n",
       "      <td>4.0</td>\n",
       "      <td>3.0</td>\n",
       "      <td>1.0</td>\n",
       "      <td>3.0</td>\n",
       "      <td>1.0</td>\n",
       "      <td>0.0</td>\n",
       "    </tr>\n",
       "    <tr>\n",
       "      <th>1</th>\n",
       "      <td>1</td>\n",
       "      <td>25</td>\n",
       "      <td>NaN</td>\n",
       "      <td>NaN</td>\n",
       "      <td>NaN</td>\n",
       "      <td>NaN</td>\n",
       "      <td>NaN</td>\n",
       "      <td>NaN</td>\n",
       "      <td>NaN</td>\n",
       "      <td>NaN</td>\n",
       "      <td>NaN</td>\n",
       "      <td>NaN</td>\n",
       "      <td>NaN</td>\n",
       "      <td>NaN</td>\n",
       "      <td>0.0</td>\n",
       "      <td>NaN</td>\n",
       "      <td>NaN</td>\n",
       "      <td>NaN</td>\n",
       "      <td>NaN</td>\n",
       "      <td>NaN</td>\n",
       "      <td>NaN</td>\n",
       "      <td>NaN</td>\n",
       "      <td>NaN</td>\n",
       "      <td>NaN</td>\n",
       "      <td>NaN</td>\n",
       "      <td>NaN</td>\n",
       "      <td>NaN</td>\n",
       "      <td>1.0</td>\n",
       "      <td>1.0</td>\n",
       "      <td>1.0</td>\n",
       "      <td>0.0</td>\n",
       "      <td>0.0</td>\n",
       "      <td>NaN</td>\n",
       "      <td>NaN</td>\n",
       "      <td>NaN</td>\n",
       "      <td>0.000000</td>\n",
       "      <td>NaN</td>\n",
       "      <td>0.0</td>\n",
       "      <td>0.0</td>\n",
       "      <td>0.0</td>\n",
       "      <td>0.0</td>\n",
       "      <td>0.0</td>\n",
       "      <td>0.0</td>\n",
       "      <td>0.0</td>\n",
       "      <td>0.0</td>\n",
       "      <td>0.0</td>\n",
       "    </tr>\n",
       "    <tr>\n",
       "      <th>2</th>\n",
       "      <td>1</td>\n",
       "      <td>38</td>\n",
       "      <td>NaN</td>\n",
       "      <td>NaN</td>\n",
       "      <td>NaN</td>\n",
       "      <td>NaN</td>\n",
       "      <td>NaN</td>\n",
       "      <td>NaN</td>\n",
       "      <td>NaN</td>\n",
       "      <td>NaN</td>\n",
       "      <td>NaN</td>\n",
       "      <td>NaN</td>\n",
       "      <td>NaN</td>\n",
       "      <td>NaN</td>\n",
       "      <td>0.0</td>\n",
       "      <td>NaN</td>\n",
       "      <td>NaN</td>\n",
       "      <td>NaN</td>\n",
       "      <td>NaN</td>\n",
       "      <td>NaN</td>\n",
       "      <td>NaN</td>\n",
       "      <td>NaN</td>\n",
       "      <td>NaN</td>\n",
       "      <td>NaN</td>\n",
       "      <td>NaN</td>\n",
       "      <td>NaN</td>\n",
       "      <td>NaN</td>\n",
       "      <td>1.0</td>\n",
       "      <td>1.0</td>\n",
       "      <td>1.0</td>\n",
       "      <td>0.0</td>\n",
       "      <td>0.0</td>\n",
       "      <td>NaN</td>\n",
       "      <td>NaN</td>\n",
       "      <td>NaN</td>\n",
       "      <td>0.000000</td>\n",
       "      <td>NaN</td>\n",
       "      <td>0.0</td>\n",
       "      <td>0.0</td>\n",
       "      <td>0.0</td>\n",
       "      <td>0.0</td>\n",
       "      <td>0.0</td>\n",
       "      <td>0.0</td>\n",
       "      <td>0.0</td>\n",
       "      <td>0.0</td>\n",
       "      <td>0.0</td>\n",
       "    </tr>\n",
       "    <tr>\n",
       "      <th>3</th>\n",
       "      <td>1</td>\n",
       "      <td>108</td>\n",
       "      <td>NaN</td>\n",
       "      <td>NaN</td>\n",
       "      <td>NaN</td>\n",
       "      <td>NaN</td>\n",
       "      <td>NaN</td>\n",
       "      <td>NaN</td>\n",
       "      <td>NaN</td>\n",
       "      <td>NaN</td>\n",
       "      <td>NaN</td>\n",
       "      <td>NaN</td>\n",
       "      <td>NaN</td>\n",
       "      <td>NaN</td>\n",
       "      <td>0.0</td>\n",
       "      <td>NaN</td>\n",
       "      <td>NaN</td>\n",
       "      <td>NaN</td>\n",
       "      <td>NaN</td>\n",
       "      <td>NaN</td>\n",
       "      <td>NaN</td>\n",
       "      <td>NaN</td>\n",
       "      <td>NaN</td>\n",
       "      <td>NaN</td>\n",
       "      <td>NaN</td>\n",
       "      <td>NaN</td>\n",
       "      <td>NaN</td>\n",
       "      <td>1.0</td>\n",
       "      <td>1.0</td>\n",
       "      <td>1.0</td>\n",
       "      <td>0.0</td>\n",
       "      <td>0.0</td>\n",
       "      <td>NaN</td>\n",
       "      <td>NaN</td>\n",
       "      <td>NaN</td>\n",
       "      <td>0.000000</td>\n",
       "      <td>NaN</td>\n",
       "      <td>0.0</td>\n",
       "      <td>0.0</td>\n",
       "      <td>0.0</td>\n",
       "      <td>0.0</td>\n",
       "      <td>0.0</td>\n",
       "      <td>0.0</td>\n",
       "      <td>0.0</td>\n",
       "      <td>0.0</td>\n",
       "      <td>0.0</td>\n",
       "    </tr>\n",
       "    <tr>\n",
       "      <th>4</th>\n",
       "      <td>1</td>\n",
       "      <td>173</td>\n",
       "      <td>NaN</td>\n",
       "      <td>NaN</td>\n",
       "      <td>NaN</td>\n",
       "      <td>2.0</td>\n",
       "      <td>NaN</td>\n",
       "      <td>NaN</td>\n",
       "      <td>136.0</td>\n",
       "      <td>2.0</td>\n",
       "      <td>2.0</td>\n",
       "      <td>1.0</td>\n",
       "      <td>NaN</td>\n",
       "      <td>1.0</td>\n",
       "      <td>144.0</td>\n",
       "      <td>NaN</td>\n",
       "      <td>NaN</td>\n",
       "      <td>NaN</td>\n",
       "      <td>0.010695</td>\n",
       "      <td>NaN</td>\n",
       "      <td>NaN</td>\n",
       "      <td>0.106952</td>\n",
       "      <td>0.276986</td>\n",
       "      <td>0.019608</td>\n",
       "      <td>NaN</td>\n",
       "      <td>0.098039</td>\n",
       "      <td>0.05</td>\n",
       "      <td>1.0</td>\n",
       "      <td>1.0</td>\n",
       "      <td>1.0</td>\n",
       "      <td>7.0</td>\n",
       "      <td>137.0</td>\n",
       "      <td>NaN</td>\n",
       "      <td>0.014706</td>\n",
       "      <td>2.0</td>\n",
       "      <td>2.014706</td>\n",
       "      <td>0.49635</td>\n",
       "      <td>140.0</td>\n",
       "      <td>4.0</td>\n",
       "      <td>0.0</td>\n",
       "      <td>6.0</td>\n",
       "      <td>4.0</td>\n",
       "      <td>2.0</td>\n",
       "      <td>3.0</td>\n",
       "      <td>3.0</td>\n",
       "      <td>0.0</td>\n",
       "    </tr>\n",
       "  </tbody>\n",
       "</table>\n",
       "</div>"
      ],
      "text/plain": [
       "   repo_id  user_id  num_commit_committed  num_commit_authored  \\\n",
       "0        1       21                   NaN                  NaN   \n",
       "1        1       25                   NaN                  NaN   \n",
       "2        1       38                   NaN                  NaN   \n",
       "3        1      108                   NaN                  NaN   \n",
       "4        1      173                   NaN                  NaN   \n",
       "\n",
       "   num_commit_commented  num_issue_opened  num_issue_closed  \\\n",
       "0                   NaN               2.0               NaN   \n",
       "1                   NaN               NaN               NaN   \n",
       "2                   NaN               NaN               NaN   \n",
       "3                   NaN               NaN               NaN   \n",
       "4                   NaN               2.0               NaN   \n",
       "\n",
       "   num_issue_assigned  num_issue_commented  num_issue_closedwithPR  \\\n",
       "0                 NaN                 17.0                     1.0   \n",
       "1                 NaN                  NaN                     NaN   \n",
       "2                 NaN                  NaN                     NaN   \n",
       "3                 NaN                  NaN                     NaN   \n",
       "4                 NaN                136.0                     2.0   \n",
       "\n",
       "   num_pr_opened  num_pr_merged  num_pr_assigned  num_pr_commented  count  \\\n",
       "0            1.0            NaN              NaN               NaN   21.0   \n",
       "1            NaN            NaN              NaN               NaN    0.0   \n",
       "2            NaN            NaN              NaN               NaN    0.0   \n",
       "3            NaN            NaN              NaN               NaN    0.0   \n",
       "4            2.0            1.0              NaN               1.0  144.0   \n",
       "\n",
       "   O_num_commit_committed  O_num_commit_authored  O_num_commit_commented  \\\n",
       "0                     NaN                    NaN                     NaN   \n",
       "1                     NaN                    NaN                     NaN   \n",
       "2                     NaN                    NaN                     NaN   \n",
       "3                     NaN                    NaN                     NaN   \n",
       "4                     NaN                    NaN                     NaN   \n",
       "\n",
       "   O_num_issue_opened  O_num_issue_closed  O_num_issue_assigned  \\\n",
       "0            0.010695                 NaN                   NaN   \n",
       "1                 NaN                 NaN                   NaN   \n",
       "2                 NaN                 NaN                   NaN   \n",
       "3                 NaN                 NaN                   NaN   \n",
       "4            0.010695                 NaN                   NaN   \n",
       "\n",
       "   O_num_issue_closedPR  O_num_issue_commented  O_num_pr_opened  \\\n",
       "0              0.053476               0.034623         0.009804   \n",
       "1                   NaN                    NaN              NaN   \n",
       "2                   NaN                    NaN              NaN   \n",
       "3                   NaN                    NaN              NaN   \n",
       "4              0.106952               0.276986         0.019608   \n",
       "\n",
       "   O_num_pr_assigned  O_num_pr_merged  O_num_pr_commented  \\\n",
       "0                NaN              NaN                 NaN   \n",
       "1                NaN              NaN                 NaN   \n",
       "2                NaN              NaN                 NaN   \n",
       "3                NaN              NaN                 NaN   \n",
       "4                NaN         0.098039                0.05   \n",
       "\n",
       "   isin_top_lang_owned  isin_top_lang_committed  isin_top_lang_watched  \\\n",
       "0                  1.0                      1.0                    1.0   \n",
       "1                  1.0                      1.0                    1.0   \n",
       "2                  1.0                      1.0                    1.0   \n",
       "3                  1.0                      1.0                    1.0   \n",
       "4                  1.0                      1.0                    1.0   \n",
       "\n",
       "   code_contributions  comments  commit_2_comment  issue_2_comment  \\\n",
       "0                 4.0      17.0               NaN         0.117647   \n",
       "1                 0.0       0.0               NaN              NaN   \n",
       "2                 0.0       0.0               NaN              NaN   \n",
       "3                 0.0       0.0               NaN              NaN   \n",
       "4                 7.0     137.0               NaN         0.014706   \n",
       "\n",
       "   pr_2_comment  code_2_comment  comment_2_code  issue_related  pr_related  \\\n",
       "0           NaN             NaN             NaN           20.0         1.0   \n",
       "1           NaN        0.000000             NaN            0.0         0.0   \n",
       "2           NaN        0.000000             NaN            0.0         0.0   \n",
       "3           NaN        0.000000             NaN            0.0         0.0   \n",
       "4           2.0        2.014706         0.49635          140.0         4.0   \n",
       "\n",
       "   commit_related  binary_count  binary_code_contributions  binary_comments  \\\n",
       "0             0.0           4.0                        3.0              1.0   \n",
       "1             0.0           0.0                        0.0              0.0   \n",
       "2             0.0           0.0                        0.0              0.0   \n",
       "3             0.0           0.0                        0.0              0.0   \n",
       "4             0.0           6.0                        4.0              2.0   \n",
       "\n",
       "   binary_issue_related  binary_pr_related  binary_commit_related  \n",
       "0                   3.0                1.0                    0.0  \n",
       "1                   0.0                0.0                    0.0  \n",
       "2                   0.0                0.0                    0.0  \n",
       "3                   0.0                0.0                    0.0  \n",
       "4                   3.0                3.0                    0.0  "
      ]
     },
     "execution_count": 4,
     "metadata": {},
     "output_type": "execute_result"
    }
   ],
   "source": [
    "file = \"/Users/kadir/jupyter-notebook/DeveloperMetrics/data/All_Developer_Metrics.csv\"\n",
    "df = pd.read_csv(file, low_memory=False)\n",
    "pd.set_option('display.max_columns', None)\n",
    "#pd.set_option('display.float_format', lambda x: '%.3f' % x)\n",
    "#pd.set_option('display.max_rows', None)\n",
    "df.head()"
   ]
  },
  {
   "cell_type": "code",
   "execution_count": 5,
   "metadata": {},
   "outputs": [],
   "source": [
    "repos = pd.read_csv('/Users/kadir/github-data/Repos.csv',sep=',')\n",
    "repo_full_names = repos[['repo_id', 'full_name']].copy()\n",
    "watched_repos = pd.read_csv('/Users/kadir/github-data/Watchers-fullname.csv',sep=',')\n",
    "forked_repos = pd.read_csv('/Users/kadir/github-data/Forks-fullname.csv',sep=',')\n",
    "watched_repos = pd.concat([watched_repos,forked_repos]).drop_duplicates().reset_index(drop=True)\n",
    "watched_repos.set_index('full_name',inplace=True)\n",
    "\n",
    "df_comments = pd.read_csv('/Users/kadir/jupyter-notebook/TextClassification/comments_topwords.csv',\n",
    "                    low_memory=False,na_filter=False,na_values=0)\n"
   ]
  },
  {
   "cell_type": "code",
   "execution_count": 6,
   "metadata": {},
   "outputs": [
    {
     "data": {
      "text/plain": [
       "'num_commit_committed:29.0'"
      ]
     },
     "metadata": {},
     "output_type": "display_data"
    },
    {
     "data": {
      "text/plain": [
       "'num_commit_authored:28.5'"
      ]
     },
     "metadata": {},
     "output_type": "display_data"
    },
    {
     "data": {
      "text/plain": [
       "'num_commit_commented:26.0'"
      ]
     },
     "metadata": {},
     "output_type": "display_data"
    },
    {
     "data": {
      "text/plain": [
       "'num_issue_opened:26.0'"
      ]
     },
     "metadata": {},
     "output_type": "display_data"
    },
    {
     "data": {
      "text/plain": [
       "'num_issue_closed:20.0'"
      ]
     },
     "metadata": {},
     "output_type": "display_data"
    },
    {
     "data": {
      "text/plain": [
       "'num_issue_assigned:26.5'"
      ]
     },
     "metadata": {},
     "output_type": "display_data"
    },
    {
     "data": {
      "text/plain": [
       "'num_issue_commented:22.0'"
      ]
     },
     "metadata": {},
     "output_type": "display_data"
    },
    {
     "data": {
      "text/plain": [
       "'num_issue_closedwithPR:34.0'"
      ]
     },
     "metadata": {},
     "output_type": "display_data"
    },
    {
     "data": {
      "text/plain": [
       "'num_pr_opened:35.5'"
      ]
     },
     "metadata": {},
     "output_type": "display_data"
    },
    {
     "data": {
      "text/plain": [
       "'num_pr_merged:28.0'"
      ]
     },
     "metadata": {},
     "output_type": "display_data"
    },
    {
     "data": {
      "text/plain": [
       "'num_pr_assigned:12.5'"
      ]
     },
     "metadata": {},
     "output_type": "display_data"
    },
    {
     "data": {
      "text/plain": [
       "'num_pr_commented:20.0'"
      ]
     },
     "metadata": {},
     "output_type": "display_data"
    },
    {
     "data": {
      "text/plain": [
       "'count:17.5'"
      ]
     },
     "metadata": {},
     "output_type": "display_data"
    },
    {
     "data": {
      "text/plain": [
       "'O_num_commit_committed:25.5'"
      ]
     },
     "metadata": {},
     "output_type": "display_data"
    },
    {
     "data": {
      "text/plain": [
       "'O_num_commit_authored:28.0'"
      ]
     },
     "metadata": {},
     "output_type": "display_data"
    },
    {
     "data": {
      "text/plain": [
       "'O_num_commit_commented:21.5'"
      ]
     },
     "metadata": {},
     "output_type": "display_data"
    },
    {
     "data": {
      "text/plain": [
       "'O_num_issue_opened:16.5'"
      ]
     },
     "metadata": {},
     "output_type": "display_data"
    },
    {
     "data": {
      "text/plain": [
       "'O_num_issue_closed:13.0'"
      ]
     },
     "metadata": {},
     "output_type": "display_data"
    },
    {
     "data": {
      "text/plain": [
       "'O_num_issue_assigned:17.0'"
      ]
     },
     "metadata": {},
     "output_type": "display_data"
    },
    {
     "data": {
      "text/plain": [
       "'O_num_issue_closedPR:21.0'"
      ]
     },
     "metadata": {},
     "output_type": "display_data"
    },
    {
     "data": {
      "text/plain": [
       "'O_num_issue_commented:15.0'"
      ]
     },
     "metadata": {},
     "output_type": "display_data"
    },
    {
     "data": {
      "text/plain": [
       "'O_num_pr_opened:17.5'"
      ]
     },
     "metadata": {},
     "output_type": "display_data"
    },
    {
     "data": {
      "text/plain": [
       "'O_num_pr_assigned:14.0'"
      ]
     },
     "metadata": {},
     "output_type": "display_data"
    },
    {
     "data": {
      "text/plain": [
       "'O_num_pr_merged:19.5'"
      ]
     },
     "metadata": {},
     "output_type": "display_data"
    },
    {
     "data": {
      "text/plain": [
       "'O_num_pr_commented:24.5'"
      ]
     },
     "metadata": {},
     "output_type": "display_data"
    },
    {
     "data": {
      "text/plain": [
       "'isin_top_lang_owned:4.0'"
      ]
     },
     "metadata": {},
     "output_type": "display_data"
    },
    {
     "data": {
      "text/plain": [
       "'isin_top_lang_committed:9.0'"
      ]
     },
     "metadata": {},
     "output_type": "display_data"
    },
    {
     "data": {
      "text/plain": [
       "'isin_top_lang_watched:2.0'"
      ]
     },
     "metadata": {},
     "output_type": "display_data"
    },
    {
     "data": {
      "text/plain": [
       "'code_contributions:24.0'"
      ]
     },
     "metadata": {},
     "output_type": "display_data"
    },
    {
     "data": {
      "text/plain": [
       "'comments:22.0'"
      ]
     },
     "metadata": {},
     "output_type": "display_data"
    },
    {
     "data": {
      "text/plain": [
       "'commit_2_comment:25.0'"
      ]
     },
     "metadata": {},
     "output_type": "display_data"
    },
    {
     "data": {
      "text/plain": [
       "'issue_2_comment:24.5'"
      ]
     },
     "metadata": {},
     "output_type": "display_data"
    },
    {
     "data": {
      "text/plain": [
       "'pr_2_comment:23.0'"
      ]
     },
     "metadata": {},
     "output_type": "display_data"
    },
    {
     "data": {
      "text/plain": [
       "'code_2_comment:27.5'"
      ]
     },
     "metadata": {},
     "output_type": "display_data"
    },
    {
     "data": {
      "text/plain": [
       "'comment_2_code:25.0'"
      ]
     },
     "metadata": {},
     "output_type": "display_data"
    },
    {
     "data": {
      "text/plain": [
       "'issue_related:18.5'"
      ]
     },
     "metadata": {},
     "output_type": "display_data"
    },
    {
     "data": {
      "text/plain": [
       "'pr_related:22.0'"
      ]
     },
     "metadata": {},
     "output_type": "display_data"
    },
    {
     "data": {
      "text/plain": [
       "'commit_related:26.0'"
      ]
     },
     "metadata": {},
     "output_type": "display_data"
    },
    {
     "data": {
      "text/plain": [
       "'binary_count:18.0'"
      ]
     },
     "metadata": {},
     "output_type": "display_data"
    },
    {
     "data": {
      "text/plain": [
       "'binary_code_contributions:22.0'"
      ]
     },
     "metadata": {},
     "output_type": "display_data"
    },
    {
     "data": {
      "text/plain": [
       "'binary_comments:17.5'"
      ]
     },
     "metadata": {},
     "output_type": "display_data"
    },
    {
     "data": {
      "text/plain": [
       "'binary_issue_related:15.0'"
      ]
     },
     "metadata": {},
     "output_type": "display_data"
    },
    {
     "data": {
      "text/plain": [
       "'binary_pr_related:28.5'"
      ]
     },
     "metadata": {},
     "output_type": "display_data"
    },
    {
     "data": {
      "text/plain": [
       "'binary_commit_related:31.0'"
      ]
     },
     "metadata": {},
     "output_type": "display_data"
    },
    {
     "data": {
      "text/plain": [
       "'num_commit_committed:24.499999999999996'"
      ]
     },
     "metadata": {},
     "output_type": "display_data"
    },
    {
     "data": {
      "text/plain": [
       "'num_commit_authored:24.49999999999999'"
      ]
     },
     "metadata": {},
     "output_type": "display_data"
    },
    {
     "data": {
      "text/plain": [
       "'num_commit_commented:20.50000000000001'"
      ]
     },
     "metadata": {},
     "output_type": "display_data"
    },
    {
     "data": {
      "text/plain": [
       "'num_issue_opened:22.333333333333325'"
      ]
     },
     "metadata": {},
     "output_type": "display_data"
    },
    {
     "data": {
      "text/plain": [
       "'num_issue_closed:17.66666666666667'"
      ]
     },
     "metadata": {},
     "output_type": "display_data"
    },
    {
     "data": {
      "text/plain": [
       "'num_issue_assigned:19.499999999999996'"
      ]
     },
     "metadata": {},
     "output_type": "display_data"
    },
    {
     "data": {
      "text/plain": [
       "'num_issue_commented:18.833333333333332'"
      ]
     },
     "metadata": {},
     "output_type": "display_data"
    },
    {
     "data": {
      "text/plain": [
       "'num_issue_closedwithPR:29.833333333333336'"
      ]
     },
     "metadata": {},
     "output_type": "display_data"
    },
    {
     "data": {
      "text/plain": [
       "'num_pr_opened:29.500000000000004'"
      ]
     },
     "metadata": {},
     "output_type": "display_data"
    },
    {
     "data": {
      "text/plain": [
       "'num_pr_merged:21.333333333333336'"
      ]
     },
     "metadata": {},
     "output_type": "display_data"
    },
    {
     "data": {
      "text/plain": [
       "'num_pr_assigned:10.666666666666668'"
      ]
     },
     "metadata": {},
     "output_type": "display_data"
    },
    {
     "data": {
      "text/plain": [
       "'num_pr_commented:21.83333333333334'"
      ]
     },
     "metadata": {},
     "output_type": "display_data"
    },
    {
     "data": {
      "text/plain": [
       "'count:18.0'"
      ]
     },
     "metadata": {},
     "output_type": "display_data"
    },
    {
     "data": {
      "text/plain": [
       "'O_num_commit_committed:24.333333333333325'"
      ]
     },
     "metadata": {},
     "output_type": "display_data"
    },
    {
     "data": {
      "text/plain": [
       "'O_num_commit_authored:22.16666666666666'"
      ]
     },
     "metadata": {},
     "output_type": "display_data"
    },
    {
     "data": {
      "text/plain": [
       "'O_num_commit_commented:19.333333333333336'"
      ]
     },
     "metadata": {},
     "output_type": "display_data"
    },
    {
     "data": {
      "text/plain": [
       "'O_num_issue_opened:15.83333333333333'"
      ]
     },
     "metadata": {},
     "output_type": "display_data"
    },
    {
     "data": {
      "text/plain": [
       "'O_num_issue_closed:10.83333333333333'"
      ]
     },
     "metadata": {},
     "output_type": "display_data"
    },
    {
     "data": {
      "text/plain": [
       "'O_num_issue_assigned:17.499999999999996'"
      ]
     },
     "metadata": {},
     "output_type": "display_data"
    },
    {
     "data": {
      "text/plain": [
       "'O_num_issue_closedPR:18.333333333333336'"
      ]
     },
     "metadata": {},
     "output_type": "display_data"
    },
    {
     "data": {
      "text/plain": [
       "'O_num_issue_commented:13.666666666666664'"
      ]
     },
     "metadata": {},
     "output_type": "display_data"
    },
    {
     "data": {
      "text/plain": [
       "'O_num_pr_opened:18.166666666666668'"
      ]
     },
     "metadata": {},
     "output_type": "display_data"
    },
    {
     "data": {
      "text/plain": [
       "'O_num_pr_assigned:10.000000000000002'"
      ]
     },
     "metadata": {},
     "output_type": "display_data"
    },
    {
     "data": {
      "text/plain": [
       "'O_num_pr_merged:16.666666666666668'"
      ]
     },
     "metadata": {},
     "output_type": "display_data"
    },
    {
     "data": {
      "text/plain": [
       "'O_num_pr_commented:24.33333333333333'"
      ]
     },
     "metadata": {},
     "output_type": "display_data"
    },
    {
     "data": {
      "text/plain": [
       "'isin_top_lang_owned:2.5000000000000004'"
      ]
     },
     "metadata": {},
     "output_type": "display_data"
    },
    {
     "data": {
      "text/plain": [
       "'isin_top_lang_committed:10.499999999999998'"
      ]
     },
     "metadata": {},
     "output_type": "display_data"
    },
    {
     "data": {
      "text/plain": [
       "'isin_top_lang_watched:2.1666666666666665'"
      ]
     },
     "metadata": {},
     "output_type": "display_data"
    },
    {
     "data": {
      "text/plain": [
       "'code_contributions:22.16666666666667'"
      ]
     },
     "metadata": {},
     "output_type": "display_data"
    },
    {
     "data": {
      "text/plain": [
       "'comments:19.999999999999996'"
      ]
     },
     "metadata": {},
     "output_type": "display_data"
    },
    {
     "data": {
      "text/plain": [
       "'commit_2_comment:20.833333333333336'"
      ]
     },
     "metadata": {},
     "output_type": "display_data"
    },
    {
     "data": {
      "text/plain": [
       "'issue_2_comment:18.66666666666667'"
      ]
     },
     "metadata": {},
     "output_type": "display_data"
    },
    {
     "data": {
      "text/plain": [
       "'pr_2_comment:21.0'"
      ]
     },
     "metadata": {},
     "output_type": "display_data"
    },
    {
     "data": {
      "text/plain": [
       "'code_2_comment:22.16666666666666'"
      ]
     },
     "metadata": {},
     "output_type": "display_data"
    },
    {
     "data": {
      "text/plain": [
       "'comment_2_code:22.833333333333336'"
      ]
     },
     "metadata": {},
     "output_type": "display_data"
    },
    {
     "data": {
      "text/plain": [
       "'issue_related:16.5'"
      ]
     },
     "metadata": {},
     "output_type": "display_data"
    },
    {
     "data": {
      "text/plain": [
       "'pr_related:26.5'"
      ]
     },
     "metadata": {},
     "output_type": "display_data"
    },
    {
     "data": {
      "text/plain": [
       "'commit_related:20.16666666666667'"
      ]
     },
     "metadata": {},
     "output_type": "display_data"
    },
    {
     "data": {
      "text/plain": [
       "'binary_count:17.833333333333336'"
      ]
     },
     "metadata": {},
     "output_type": "display_data"
    },
    {
     "data": {
      "text/plain": [
       "'binary_code_contributions:22.99999999999999'"
      ]
     },
     "metadata": {},
     "output_type": "display_data"
    },
    {
     "data": {
      "text/plain": [
       "'binary_comments:18.166666666666668'"
      ]
     },
     "metadata": {},
     "output_type": "display_data"
    },
    {
     "data": {
      "text/plain": [
       "'binary_issue_related:17.0'"
      ]
     },
     "metadata": {},
     "output_type": "display_data"
    },
    {
     "data": {
      "text/plain": [
       "'binary_pr_related:30.49999999999999'"
      ]
     },
     "metadata": {},
     "output_type": "display_data"
    },
    {
     "data": {
      "text/plain": [
       "'binary_commit_related:24.999999999999996'"
      ]
     },
     "metadata": {},
     "output_type": "display_data"
    },
    {
     "data": {
      "text/plain": [
       "'num_commit_committed:22.6'"
      ]
     },
     "metadata": {},
     "output_type": "display_data"
    },
    {
     "data": {
      "text/plain": [
       "'num_commit_authored:23.1'"
      ]
     },
     "metadata": {},
     "output_type": "display_data"
    },
    {
     "data": {
      "text/plain": [
       "'num_commit_commented:20.5'"
      ]
     },
     "metadata": {},
     "output_type": "display_data"
    },
    {
     "data": {
      "text/plain": [
       "'num_issue_opened:22.1'"
      ]
     },
     "metadata": {},
     "output_type": "display_data"
    },
    {
     "data": {
      "text/plain": [
       "'num_issue_closed:14.8'"
      ]
     },
     "metadata": {},
     "output_type": "display_data"
    },
    {
     "data": {
      "text/plain": [
       "'num_issue_assigned:17.4'"
      ]
     },
     "metadata": {},
     "output_type": "display_data"
    },
    {
     "data": {
      "text/plain": [
       "'num_issue_commented:18.2'"
      ]
     },
     "metadata": {},
     "output_type": "display_data"
    },
    {
     "data": {
      "text/plain": [
       "'num_issue_closedwithPR:24.2'"
      ]
     },
     "metadata": {},
     "output_type": "display_data"
    },
    {
     "data": {
      "text/plain": [
       "'num_pr_opened:24.7'"
      ]
     },
     "metadata": {},
     "output_type": "display_data"
    },
    {
     "data": {
      "text/plain": [
       "'num_pr_merged:20.7'"
      ]
     },
     "metadata": {},
     "output_type": "display_data"
    },
    {
     "data": {
      "text/plain": [
       "'num_pr_assigned:9.3'"
      ]
     },
     "metadata": {},
     "output_type": "display_data"
    },
    {
     "data": {
      "text/plain": [
       "'num_pr_commented:20.1'"
      ]
     },
     "metadata": {},
     "output_type": "display_data"
    },
    {
     "data": {
      "text/plain": [
       "'count:16.5'"
      ]
     },
     "metadata": {},
     "output_type": "display_data"
    },
    {
     "data": {
      "text/plain": [
       "'O_num_commit_committed:20.5'"
      ]
     },
     "metadata": {},
     "output_type": "display_data"
    },
    {
     "data": {
      "text/plain": [
       "'O_num_commit_authored:20.1'"
      ]
     },
     "metadata": {},
     "output_type": "display_data"
    },
    {
     "data": {
      "text/plain": [
       "'O_num_commit_commented:17.8'"
      ]
     },
     "metadata": {},
     "output_type": "display_data"
    },
    {
     "data": {
      "text/plain": [
       "'O_num_issue_opened:15.6'"
      ]
     },
     "metadata": {},
     "output_type": "display_data"
    },
    {
     "data": {
      "text/plain": [
       "'O_num_issue_closed:10.2'"
      ]
     },
     "metadata": {},
     "output_type": "display_data"
    },
    {
     "data": {
      "text/plain": [
       "'O_num_issue_assigned:14.4'"
      ]
     },
     "metadata": {},
     "output_type": "display_data"
    },
    {
     "data": {
      "text/plain": [
       "'O_num_issue_closedPR:16.6'"
      ]
     },
     "metadata": {},
     "output_type": "display_data"
    },
    {
     "data": {
      "text/plain": [
       "'O_num_issue_commented:13.0'"
      ]
     },
     "metadata": {},
     "output_type": "display_data"
    },
    {
     "data": {
      "text/plain": [
       "'O_num_pr_opened:17.0'"
      ]
     },
     "metadata": {},
     "output_type": "display_data"
    },
    {
     "data": {
      "text/plain": [
       "'O_num_pr_assigned:9.1'"
      ]
     },
     "metadata": {},
     "output_type": "display_data"
    },
    {
     "data": {
      "text/plain": [
       "'O_num_pr_merged:14.7'"
      ]
     },
     "metadata": {},
     "output_type": "display_data"
    },
    {
     "data": {
      "text/plain": [
       "'O_num_pr_commented:21.5'"
      ]
     },
     "metadata": {},
     "output_type": "display_data"
    },
    {
     "data": {
      "text/plain": [
       "'isin_top_lang_owned:3.6'"
      ]
     },
     "metadata": {},
     "output_type": "display_data"
    },
    {
     "data": {
      "text/plain": [
       "'isin_top_lang_committed:10.5'"
      ]
     },
     "metadata": {},
     "output_type": "display_data"
    },
    {
     "data": {
      "text/plain": [
       "'isin_top_lang_watched:2.1'"
      ]
     },
     "metadata": {},
     "output_type": "display_data"
    },
    {
     "data": {
      "text/plain": [
       "'code_contributions:20.5'"
      ]
     },
     "metadata": {},
     "output_type": "display_data"
    },
    {
     "data": {
      "text/plain": [
       "'comments:19.3'"
      ]
     },
     "metadata": {},
     "output_type": "display_data"
    },
    {
     "data": {
      "text/plain": [
       "'commit_2_comment:18.3'"
      ]
     },
     "metadata": {},
     "output_type": "display_data"
    },
    {
     "data": {
      "text/plain": [
       "'issue_2_comment:19.8'"
      ]
     },
     "metadata": {},
     "output_type": "display_data"
    },
    {
     "data": {
      "text/plain": [
       "'pr_2_comment:18.9'"
      ]
     },
     "metadata": {},
     "output_type": "display_data"
    },
    {
     "data": {
      "text/plain": [
       "'code_2_comment:22.2'"
      ]
     },
     "metadata": {},
     "output_type": "display_data"
    },
    {
     "data": {
      "text/plain": [
       "'comment_2_code:23.2'"
      ]
     },
     "metadata": {},
     "output_type": "display_data"
    },
    {
     "data": {
      "text/plain": [
       "'issue_related:17.0'"
      ]
     },
     "metadata": {},
     "output_type": "display_data"
    },
    {
     "data": {
      "text/plain": [
       "'pr_related:23.9'"
      ]
     },
     "metadata": {},
     "output_type": "display_data"
    },
    {
     "data": {
      "text/plain": [
       "'commit_related:19.4'"
      ]
     },
     "metadata": {},
     "output_type": "display_data"
    },
    {
     "data": {
      "text/plain": [
       "'binary_count:17.9'"
      ]
     },
     "metadata": {},
     "output_type": "display_data"
    },
    {
     "data": {
      "text/plain": [
       "'binary_code_contributions:20.7'"
      ]
     },
     "metadata": {},
     "output_type": "display_data"
    },
    {
     "data": {
      "text/plain": [
       "'binary_comments:18.8'"
      ]
     },
     "metadata": {},
     "output_type": "display_data"
    },
    {
     "data": {
      "text/plain": [
       "'binary_issue_related:17.7'"
      ]
     },
     "metadata": {},
     "output_type": "display_data"
    },
    {
     "data": {
      "text/plain": [
       "'binary_pr_related:27.5'"
      ]
     },
     "metadata": {},
     "output_type": "display_data"
    },
    {
     "data": {
      "text/plain": [
       "'binary_commit_related:23.0'"
      ]
     },
     "metadata": {},
     "output_type": "display_data"
    },
    {
     "data": {
      "text/plain": [
       "'num_commit_committed:18.5'"
      ]
     },
     "metadata": {},
     "output_type": "display_data"
    },
    {
     "data": {
      "text/plain": [
       "'num_commit_authored:18.45'"
      ]
     },
     "metadata": {},
     "output_type": "display_data"
    },
    {
     "data": {
      "text/plain": [
       "'num_commit_commented:18.45'"
      ]
     },
     "metadata": {},
     "output_type": "display_data"
    },
    {
     "data": {
      "text/plain": [
       "'num_issue_opened:18.65'"
      ]
     },
     "metadata": {},
     "output_type": "display_data"
    },
    {
     "data": {
      "text/plain": [
       "'num_issue_closed:13.15'"
      ]
     },
     "metadata": {},
     "output_type": "display_data"
    },
    {
     "data": {
      "text/plain": [
       "'num_issue_assigned:14.25'"
      ]
     },
     "metadata": {},
     "output_type": "display_data"
    },
    {
     "data": {
      "text/plain": [
       "'num_issue_commented:16.95'"
      ]
     },
     "metadata": {},
     "output_type": "display_data"
    },
    {
     "data": {
      "text/plain": [
       "'num_issue_closedwithPR:21.7'"
      ]
     },
     "metadata": {},
     "output_type": "display_data"
    },
    {
     "data": {
      "text/plain": [
       "'num_pr_opened:22.3'"
      ]
     },
     "metadata": {},
     "output_type": "display_data"
    },
    {
     "data": {
      "text/plain": [
       "'num_pr_merged:18.9'"
      ]
     },
     "metadata": {},
     "output_type": "display_data"
    },
    {
     "data": {
      "text/plain": [
       "'num_pr_assigned:8.5'"
      ]
     },
     "metadata": {},
     "output_type": "display_data"
    },
    {
     "data": {
      "text/plain": [
       "'num_pr_commented:18.6'"
      ]
     },
     "metadata": {},
     "output_type": "display_data"
    },
    {
     "data": {
      "text/plain": [
       "'count:14.5'"
      ]
     },
     "metadata": {},
     "output_type": "display_data"
    },
    {
     "data": {
      "text/plain": [
       "'O_num_commit_committed:18.1'"
      ]
     },
     "metadata": {},
     "output_type": "display_data"
    },
    {
     "data": {
      "text/plain": [
       "'O_num_commit_authored:17.7'"
      ]
     },
     "metadata": {},
     "output_type": "display_data"
    },
    {
     "data": {
      "text/plain": [
       "'O_num_commit_commented:16.65'"
      ]
     },
     "metadata": {},
     "output_type": "display_data"
    },
    {
     "data": {
      "text/plain": [
       "'O_num_issue_opened:13.0'"
      ]
     },
     "metadata": {},
     "output_type": "display_data"
    },
    {
     "data": {
      "text/plain": [
       "'O_num_issue_closed:10.4'"
      ]
     },
     "metadata": {},
     "output_type": "display_data"
    },
    {
     "data": {
      "text/plain": [
       "'O_num_issue_assigned:12.7'"
      ]
     },
     "metadata": {},
     "output_type": "display_data"
    },
    {
     "data": {
      "text/plain": [
       "'O_num_issue_closedPR:14.5'"
      ]
     },
     "metadata": {},
     "output_type": "display_data"
    },
    {
     "data": {
      "text/plain": [
       "'O_num_issue_commented:12.25'"
      ]
     },
     "metadata": {},
     "output_type": "display_data"
    },
    {
     "data": {
      "text/plain": [
       "'O_num_pr_opened:15.25'"
      ]
     },
     "metadata": {},
     "output_type": "display_data"
    },
    {
     "data": {
      "text/plain": [
       "'O_num_pr_assigned:9.6'"
      ]
     },
     "metadata": {},
     "output_type": "display_data"
    },
    {
     "data": {
      "text/plain": [
       "'O_num_pr_merged:13.45'"
      ]
     },
     "metadata": {},
     "output_type": "display_data"
    },
    {
     "data": {
      "text/plain": [
       "'O_num_pr_commented:19.7'"
      ]
     },
     "metadata": {},
     "output_type": "display_data"
    },
    {
     "data": {
      "text/plain": [
       "'isin_top_lang_owned:3.55'"
      ]
     },
     "metadata": {},
     "output_type": "display_data"
    },
    {
     "data": {
      "text/plain": [
       "'isin_top_lang_committed:8.15'"
      ]
     },
     "metadata": {},
     "output_type": "display_data"
    },
    {
     "data": {
      "text/plain": [
       "'isin_top_lang_watched:2.9'"
      ]
     },
     "metadata": {},
     "output_type": "display_data"
    },
    {
     "data": {
      "text/plain": [
       "'code_contributions:18.25'"
      ]
     },
     "metadata": {},
     "output_type": "display_data"
    },
    {
     "data": {
      "text/plain": [
       "'comments:16.95'"
      ]
     },
     "metadata": {},
     "output_type": "display_data"
    },
    {
     "data": {
      "text/plain": [
       "'commit_2_comment:14.35'"
      ]
     },
     "metadata": {},
     "output_type": "display_data"
    },
    {
     "data": {
      "text/plain": [
       "'issue_2_comment:17.35'"
      ]
     },
     "metadata": {},
     "output_type": "display_data"
    },
    {
     "data": {
      "text/plain": [
       "'pr_2_comment:16.2'"
      ]
     },
     "metadata": {},
     "output_type": "display_data"
    },
    {
     "data": {
      "text/plain": [
       "'code_2_comment:19.4'"
      ]
     },
     "metadata": {},
     "output_type": "display_data"
    },
    {
     "data": {
      "text/plain": [
       "'comment_2_code:20.25'"
      ]
     },
     "metadata": {},
     "output_type": "display_data"
    },
    {
     "data": {
      "text/plain": [
       "'issue_related:15.2'"
      ]
     },
     "metadata": {},
     "output_type": "display_data"
    },
    {
     "data": {
      "text/plain": [
       "'pr_related:20.1'"
      ]
     },
     "metadata": {},
     "output_type": "display_data"
    },
    {
     "data": {
      "text/plain": [
       "'commit_related:19.0'"
      ]
     },
     "metadata": {},
     "output_type": "display_data"
    },
    {
     "data": {
      "text/plain": [
       "'binary_count:16.1'"
      ]
     },
     "metadata": {},
     "output_type": "display_data"
    },
    {
     "data": {
      "text/plain": [
       "'binary_code_contributions:18.05'"
      ]
     },
     "metadata": {},
     "output_type": "display_data"
    },
    {
     "data": {
      "text/plain": [
       "'binary_comments:17.6'"
      ]
     },
     "metadata": {},
     "output_type": "display_data"
    },
    {
     "data": {
      "text/plain": [
       "'binary_issue_related:16.4'"
      ]
     },
     "metadata": {},
     "output_type": "display_data"
    },
    {
     "data": {
      "text/plain": [
       "'binary_pr_related:21.9'"
      ]
     },
     "metadata": {},
     "output_type": "display_data"
    },
    {
     "data": {
      "text/plain": [
       "'binary_commit_related:20.2'"
      ]
     },
     "metadata": {},
     "output_type": "display_data"
    },
    {
     "data": {
      "text/plain": [
       "'num_commit_committed:15.275'"
      ]
     },
     "metadata": {},
     "output_type": "display_data"
    },
    {
     "data": {
      "text/plain": [
       "'num_commit_authored:15.35'"
      ]
     },
     "metadata": {},
     "output_type": "display_data"
    },
    {
     "data": {
      "text/plain": [
       "'num_commit_commented:15.6'"
      ]
     },
     "metadata": {},
     "output_type": "display_data"
    },
    {
     "data": {
      "text/plain": [
       "'num_issue_opened:16.05'"
      ]
     },
     "metadata": {},
     "output_type": "display_data"
    },
    {
     "data": {
      "text/plain": [
       "'num_issue_closed:11.55'"
      ]
     },
     "metadata": {},
     "output_type": "display_data"
    },
    {
     "data": {
      "text/plain": [
       "'num_issue_assigned:11.85'"
      ]
     },
     "metadata": {},
     "output_type": "display_data"
    },
    {
     "data": {
      "text/plain": [
       "'num_issue_commented:15.075'"
      ]
     },
     "metadata": {},
     "output_type": "display_data"
    },
    {
     "data": {
      "text/plain": [
       "'num_issue_closedwithPR:18.025'"
      ]
     },
     "metadata": {},
     "output_type": "display_data"
    },
    {
     "data": {
      "text/plain": [
       "'num_pr_opened:18.95'"
      ]
     },
     "metadata": {},
     "output_type": "display_data"
    },
    {
     "data": {
      "text/plain": [
       "'num_pr_merged:17.05'"
      ]
     },
     "metadata": {},
     "output_type": "display_data"
    },
    {
     "data": {
      "text/plain": [
       "'num_pr_assigned:7.55'"
      ]
     },
     "metadata": {},
     "output_type": "display_data"
    },
    {
     "data": {
      "text/plain": [
       "'num_pr_commented:16.15'"
      ]
     },
     "metadata": {},
     "output_type": "display_data"
    },
    {
     "data": {
      "text/plain": [
       "'count:13.925'"
      ]
     },
     "metadata": {},
     "output_type": "display_data"
    },
    {
     "data": {
      "text/plain": [
       "'O_num_commit_committed:15.175'"
      ]
     },
     "metadata": {},
     "output_type": "display_data"
    },
    {
     "data": {
      "text/plain": [
       "'O_num_commit_authored:15.125'"
      ]
     },
     "metadata": {},
     "output_type": "display_data"
    },
    {
     "data": {
      "text/plain": [
       "'O_num_commit_commented:15.825'"
      ]
     },
     "metadata": {},
     "output_type": "display_data"
    },
    {
     "data": {
      "text/plain": [
       "'O_num_issue_opened:12.65'"
      ]
     },
     "metadata": {},
     "output_type": "display_data"
    },
    {
     "data": {
      "text/plain": [
       "'O_num_issue_closed:9.025'"
      ]
     },
     "metadata": {},
     "output_type": "display_data"
    },
    {
     "data": {
      "text/plain": [
       "'O_num_issue_assigned:10.325'"
      ]
     },
     "metadata": {},
     "output_type": "display_data"
    },
    {
     "data": {
      "text/plain": [
       "'O_num_issue_closedPR:12.825'"
      ]
     },
     "metadata": {},
     "output_type": "display_data"
    },
    {
     "data": {
      "text/plain": [
       "'O_num_issue_commented:11.1'"
      ]
     },
     "metadata": {},
     "output_type": "display_data"
    },
    {
     "data": {
      "text/plain": [
       "'O_num_pr_opened:13.4'"
      ]
     },
     "metadata": {},
     "output_type": "display_data"
    },
    {
     "data": {
      "text/plain": [
       "'O_num_pr_assigned:7.775'"
      ]
     },
     "metadata": {},
     "output_type": "display_data"
    },
    {
     "data": {
      "text/plain": [
       "'O_num_pr_merged:13.35'"
      ]
     },
     "metadata": {},
     "output_type": "display_data"
    },
    {
     "data": {
      "text/plain": [
       "'O_num_pr_commented:16.675'"
      ]
     },
     "metadata": {},
     "output_type": "display_data"
    },
    {
     "data": {
      "text/plain": [
       "'isin_top_lang_owned:4.375'"
      ]
     },
     "metadata": {},
     "output_type": "display_data"
    },
    {
     "data": {
      "text/plain": [
       "'isin_top_lang_committed:7.55'"
      ]
     },
     "metadata": {},
     "output_type": "display_data"
    },
    {
     "data": {
      "text/plain": [
       "'isin_top_lang_watched:3.775'"
      ]
     },
     "metadata": {},
     "output_type": "display_data"
    },
    {
     "data": {
      "text/plain": [
       "'code_contributions:15.225'"
      ]
     },
     "metadata": {},
     "output_type": "display_data"
    },
    {
     "data": {
      "text/plain": [
       "'comments:14.75'"
      ]
     },
     "metadata": {},
     "output_type": "display_data"
    },
    {
     "data": {
      "text/plain": [
       "'commit_2_comment:12.175'"
      ]
     },
     "metadata": {},
     "output_type": "display_data"
    },
    {
     "data": {
      "text/plain": [
       "'issue_2_comment:16.675'"
      ]
     },
     "metadata": {},
     "output_type": "display_data"
    },
    {
     "data": {
      "text/plain": [
       "'pr_2_comment:15.05'"
      ]
     },
     "metadata": {},
     "output_type": "display_data"
    },
    {
     "data": {
      "text/plain": [
       "'code_2_comment:17.125'"
      ]
     },
     "metadata": {},
     "output_type": "display_data"
    },
    {
     "data": {
      "text/plain": [
       "'comment_2_code:18.1'"
      ]
     },
     "metadata": {},
     "output_type": "display_data"
    },
    {
     "data": {
      "text/plain": [
       "'issue_related:13.675'"
      ]
     },
     "metadata": {},
     "output_type": "display_data"
    },
    {
     "data": {
      "text/plain": [
       "'pr_related:17.025'"
      ]
     },
     "metadata": {},
     "output_type": "display_data"
    },
    {
     "data": {
      "text/plain": [
       "'commit_related:16.125'"
      ]
     },
     "metadata": {},
     "output_type": "display_data"
    },
    {
     "data": {
      "text/plain": [
       "'binary_count:14.775'"
      ]
     },
     "metadata": {},
     "output_type": "display_data"
    },
    {
     "data": {
      "text/plain": [
       "'binary_code_contributions:16.5'"
      ]
     },
     "metadata": {},
     "output_type": "display_data"
    },
    {
     "data": {
      "text/plain": [
       "'binary_comments:15.4'"
      ]
     },
     "metadata": {},
     "output_type": "display_data"
    },
    {
     "data": {
      "text/plain": [
       "'binary_issue_related:14.975'"
      ]
     },
     "metadata": {},
     "output_type": "display_data"
    },
    {
     "data": {
      "text/plain": [
       "'binary_pr_related:18.275'"
      ]
     },
     "metadata": {},
     "output_type": "display_data"
    },
    {
     "data": {
      "text/plain": [
       "'binary_commit_related:17.925'"
      ]
     },
     "metadata": {},
     "output_type": "display_data"
    }
   ],
   "source": [
    "header = 'ALL_developer_metrics'\n",
    "\n",
    "topn= [1,3,5,10,20]\n",
    "for n in topn:\n",
    "    topn = n\n",
    "    topn_hit = []\n",
    "    names = []\n",
    "    for i in range(2,46): \n",
    "        name = df.columns[i]\n",
    "        x = df.loc[:,['repo_id','user_id']]\n",
    "        y = df.iloc[:, [i]]\n",
    "        ratings = pd.concat([x, y], axis=1, sort=False)\n",
    "        ratings.rename(columns={name:'rating'}, inplace=True)  \n",
    "        ratings.replace(0,np.NaN,inplace=True)\n",
    "        df2 = pd.merge(ratings, repo_full_names, on='repo_id')\n",
    "        repo_matrix = df2.pivot_table(index='full_name', columns='user_id', values='rating')\n",
    "        repo_matrix.replace(np.nan, 0, inplace=True)\n",
    "        selected = select_related_repos(repo_matrix)\n",
    "        repo_similarity_matrix = tfidf_similarity_function(selected,'topWords')\n",
    "        #repo_similarity_matrix = cosine_similarity(repo_matrix)\n",
    "        repo_matrix2 = repo_matrix.mask(repo_matrix==0, repo_similarity_matrix@repo_matrix.values)\n",
    "        accuracy = 0\n",
    "        for id in repo_matrix.columns:\n",
    "            x = repo_matrix[[id]][repo_matrix[[id]].values == 0].index\n",
    "            recommends = repo_matrix2[[id]].loc[x].sort_values(by=[id], ascending = 0)\n",
    "            topn_recom = recommends.head(topn)\n",
    "            watched = watched_repos[watched_repos.user_id == id]\n",
    "            # less than (n) change algorithm to calculate topn accuracy\n",
    "            if len(watched)>topn:\n",
    "                hit=0\n",
    "                for n in topn_recom.index:\n",
    "                    if n in watched.index: #full name matches\n",
    "                        hit = hit +1\n",
    "                    else: # only owners or repo name matches\n",
    "                        wat_owners = watched.index.str.split('/').str[0].to_list()\n",
    "                        wat_reponame = watched.index.str.split('/').str[1].to_list()\n",
    "                        rec_owner = n.split('/')[0]\n",
    "                        if rec_owner in wat_owners:\n",
    "                            hit = hit + 0.5\n",
    "                        if rec_owner in wat_reponame:\n",
    "                            hit = hit + 0.5\n",
    "\n",
    "                accuracy += hit * 100 / topn\n",
    "            else:\n",
    "                hit=0\n",
    "                for n in topn_recom.index:\n",
    "                    if n in watched.index: #full name matches\n",
    "                        hit = hit +1\n",
    "                    else: # only owners matches\n",
    "                        wat_owners = watched.index.str.split('/').str[0].to_list()\n",
    "                        wat_reponame = watched.index.str.split('/').str[1].to_list()\n",
    "                        rec_owner = n.split('/')[0]\n",
    "                        if rec_owner in wat_owners:\n",
    "                            hit = hit + 0.5\n",
    "                        if rec_owner in wat_reponame:\n",
    "                            hit = hit + 0.5\n",
    "\n",
    "                accuracy += hit * 100 / len(watched)\n",
    "\n",
    "        total_accuracy = accuracy / 100\n",
    "        topn_hit.append(total_accuracy)\n",
    "        names.append(name)\n",
    "        display(name + ':'+ str(total_accuracy))\n",
    "    topn_hit = np.round(topn_hit, 2)\n",
    "    hit_text = \"hit_top_\"+str(topn)\n",
    "    results  = pd.DataFrame({hit_text:topn_hit,'metric':names})\n",
    "    filename = r'/Users/kadir/Desktop/comment_similarity_scores_'+header+'_'+hit_text+'.csv'\n",
    "    export_csv = results.to_csv (filename,index=False, header=True)"
   ]
  },
  {
   "cell_type": "code",
   "execution_count": 7,
   "metadata": {},
   "outputs": [],
   "source": [
    "def highlight_max(data, color='yellow'):\n",
    "\n",
    "    attr = 'background-color: {}'.format(color)\n",
    "    if data.ndim == 1:  # Series from .apply(axis=0) or axis=1\n",
    "        is_max = data == data.max()\n",
    "        return [attr if v else '' for v in is_max]\n",
    "    else:  # from .apply(axis=None)\n",
    "        is_max = data == data.max().max()\n",
    "        return pd.DataFrame(np.where(is_max, attr, ''),\n",
    "                            index=data.index, columns=data.columns)"
   ]
  },
  {
   "cell_type": "code",
   "execution_count": 8,
   "metadata": {},
   "outputs": [
    {
     "data": {
      "text/html": [
       "<style  type=\"text/css\" >\n",
       "#T_37dc1a7e_235c_11eb_96d7_6af06691e534row0_col0,#T_37dc1a7e_235c_11eb_96d7_6af06691e534row0_col3,#T_37dc1a7e_235c_11eb_96d7_6af06691e534row0_col4,#T_37dc1a7e_235c_11eb_96d7_6af06691e534row0_col5,#T_37dc1a7e_235c_11eb_96d7_6af06691e534row4_col1,#T_37dc1a7e_235c_11eb_96d7_6af06691e534row4_col2{\n",
       "            background-color:  yellow;\n",
       "        }</style><table id=\"T_37dc1a7e_235c_11eb_96d7_6af06691e534\" ><thead>    <tr>        <th class=\"blank level0\" ></th>        <th class=\"col_heading level0 col0\" >hit_top_1</th>        <th class=\"col_heading level0 col1\" >hit_top_3</th>        <th class=\"col_heading level0 col2\" >hit_top_5</th>        <th class=\"col_heading level0 col3\" >hit_top_10</th>        <th class=\"col_heading level0 col4\" >hit_top_20</th>        <th class=\"col_heading level0 col5\" >mean</th>    </tr>    <tr>        <th class=\"index_name level0\" >metric</th>        <th class=\"blank\" ></th>        <th class=\"blank\" ></th>        <th class=\"blank\" ></th>        <th class=\"blank\" ></th>        <th class=\"blank\" ></th>        <th class=\"blank\" ></th>    </tr></thead><tbody>\n",
       "                <tr>\n",
       "                        <th id=\"T_37dc1a7e_235c_11eb_96d7_6af06691e534level0_row0\" class=\"row_heading level0 row0\" >num_pr_opened</th>\n",
       "                        <td id=\"T_37dc1a7e_235c_11eb_96d7_6af06691e534row0_col0\" class=\"data row0 col0\" >35.500000</td>\n",
       "                        <td id=\"T_37dc1a7e_235c_11eb_96d7_6af06691e534row0_col1\" class=\"data row0 col1\" >29.500000</td>\n",
       "                        <td id=\"T_37dc1a7e_235c_11eb_96d7_6af06691e534row0_col2\" class=\"data row0 col2\" >24.700000</td>\n",
       "                        <td id=\"T_37dc1a7e_235c_11eb_96d7_6af06691e534row0_col3\" class=\"data row0 col3\" >22.300000</td>\n",
       "                        <td id=\"T_37dc1a7e_235c_11eb_96d7_6af06691e534row0_col4\" class=\"data row0 col4\" >18.950000</td>\n",
       "                        <td id=\"T_37dc1a7e_235c_11eb_96d7_6af06691e534row0_col5\" class=\"data row0 col5\" >26.190000</td>\n",
       "            </tr>\n",
       "            <tr>\n",
       "                        <th id=\"T_37dc1a7e_235c_11eb_96d7_6af06691e534level0_row1\" class=\"row_heading level0 row1\" >num_issue_closedwithPR</th>\n",
       "                        <td id=\"T_37dc1a7e_235c_11eb_96d7_6af06691e534row1_col0\" class=\"data row1 col0\" >34.000000</td>\n",
       "                        <td id=\"T_37dc1a7e_235c_11eb_96d7_6af06691e534row1_col1\" class=\"data row1 col1\" >29.830000</td>\n",
       "                        <td id=\"T_37dc1a7e_235c_11eb_96d7_6af06691e534row1_col2\" class=\"data row1 col2\" >24.200000</td>\n",
       "                        <td id=\"T_37dc1a7e_235c_11eb_96d7_6af06691e534row1_col3\" class=\"data row1 col3\" >21.700000</td>\n",
       "                        <td id=\"T_37dc1a7e_235c_11eb_96d7_6af06691e534row1_col4\" class=\"data row1 col4\" >18.020000</td>\n",
       "                        <td id=\"T_37dc1a7e_235c_11eb_96d7_6af06691e534row1_col5\" class=\"data row1 col5\" >25.550000</td>\n",
       "            </tr>\n",
       "            <tr>\n",
       "                        <th id=\"T_37dc1a7e_235c_11eb_96d7_6af06691e534level0_row2\" class=\"row_heading level0 row2\" >binary_commit_related</th>\n",
       "                        <td id=\"T_37dc1a7e_235c_11eb_96d7_6af06691e534row2_col0\" class=\"data row2 col0\" >31.000000</td>\n",
       "                        <td id=\"T_37dc1a7e_235c_11eb_96d7_6af06691e534row2_col1\" class=\"data row2 col1\" >25.000000</td>\n",
       "                        <td id=\"T_37dc1a7e_235c_11eb_96d7_6af06691e534row2_col2\" class=\"data row2 col2\" >23.000000</td>\n",
       "                        <td id=\"T_37dc1a7e_235c_11eb_96d7_6af06691e534row2_col3\" class=\"data row2 col3\" >20.200000</td>\n",
       "                        <td id=\"T_37dc1a7e_235c_11eb_96d7_6af06691e534row2_col4\" class=\"data row2 col4\" >17.920000</td>\n",
       "                        <td id=\"T_37dc1a7e_235c_11eb_96d7_6af06691e534row2_col5\" class=\"data row2 col5\" >23.424000</td>\n",
       "            </tr>\n",
       "            <tr>\n",
       "                        <th id=\"T_37dc1a7e_235c_11eb_96d7_6af06691e534level0_row3\" class=\"row_heading level0 row3\" >num_commit_committed</th>\n",
       "                        <td id=\"T_37dc1a7e_235c_11eb_96d7_6af06691e534row3_col0\" class=\"data row3 col0\" >29.000000</td>\n",
       "                        <td id=\"T_37dc1a7e_235c_11eb_96d7_6af06691e534row3_col1\" class=\"data row3 col1\" >24.500000</td>\n",
       "                        <td id=\"T_37dc1a7e_235c_11eb_96d7_6af06691e534row3_col2\" class=\"data row3 col2\" >22.600000</td>\n",
       "                        <td id=\"T_37dc1a7e_235c_11eb_96d7_6af06691e534row3_col3\" class=\"data row3 col3\" >18.500000</td>\n",
       "                        <td id=\"T_37dc1a7e_235c_11eb_96d7_6af06691e534row3_col4\" class=\"data row3 col4\" >15.280000</td>\n",
       "                        <td id=\"T_37dc1a7e_235c_11eb_96d7_6af06691e534row3_col5\" class=\"data row3 col5\" >21.976000</td>\n",
       "            </tr>\n",
       "            <tr>\n",
       "                        <th id=\"T_37dc1a7e_235c_11eb_96d7_6af06691e534level0_row4\" class=\"row_heading level0 row4\" >binary_pr_related</th>\n",
       "                        <td id=\"T_37dc1a7e_235c_11eb_96d7_6af06691e534row4_col0\" class=\"data row4 col0\" >28.500000</td>\n",
       "                        <td id=\"T_37dc1a7e_235c_11eb_96d7_6af06691e534row4_col1\" class=\"data row4 col1\" >30.500000</td>\n",
       "                        <td id=\"T_37dc1a7e_235c_11eb_96d7_6af06691e534row4_col2\" class=\"data row4 col2\" >27.500000</td>\n",
       "                        <td id=\"T_37dc1a7e_235c_11eb_96d7_6af06691e534row4_col3\" class=\"data row4 col3\" >21.900000</td>\n",
       "                        <td id=\"T_37dc1a7e_235c_11eb_96d7_6af06691e534row4_col4\" class=\"data row4 col4\" >18.270000</td>\n",
       "                        <td id=\"T_37dc1a7e_235c_11eb_96d7_6af06691e534row4_col5\" class=\"data row4 col5\" >25.334000</td>\n",
       "            </tr>\n",
       "            <tr>\n",
       "                        <th id=\"T_37dc1a7e_235c_11eb_96d7_6af06691e534level0_row5\" class=\"row_heading level0 row5\" >num_commit_authored</th>\n",
       "                        <td id=\"T_37dc1a7e_235c_11eb_96d7_6af06691e534row5_col0\" class=\"data row5 col0\" >28.500000</td>\n",
       "                        <td id=\"T_37dc1a7e_235c_11eb_96d7_6af06691e534row5_col1\" class=\"data row5 col1\" >24.500000</td>\n",
       "                        <td id=\"T_37dc1a7e_235c_11eb_96d7_6af06691e534row5_col2\" class=\"data row5 col2\" >23.100000</td>\n",
       "                        <td id=\"T_37dc1a7e_235c_11eb_96d7_6af06691e534row5_col3\" class=\"data row5 col3\" >18.450000</td>\n",
       "                        <td id=\"T_37dc1a7e_235c_11eb_96d7_6af06691e534row5_col4\" class=\"data row5 col4\" >15.350000</td>\n",
       "                        <td id=\"T_37dc1a7e_235c_11eb_96d7_6af06691e534row5_col5\" class=\"data row5 col5\" >21.980000</td>\n",
       "            </tr>\n",
       "            <tr>\n",
       "                        <th id=\"T_37dc1a7e_235c_11eb_96d7_6af06691e534level0_row6\" class=\"row_heading level0 row6\" >num_pr_merged</th>\n",
       "                        <td id=\"T_37dc1a7e_235c_11eb_96d7_6af06691e534row6_col0\" class=\"data row6 col0\" >28.000000</td>\n",
       "                        <td id=\"T_37dc1a7e_235c_11eb_96d7_6af06691e534row6_col1\" class=\"data row6 col1\" >21.330000</td>\n",
       "                        <td id=\"T_37dc1a7e_235c_11eb_96d7_6af06691e534row6_col2\" class=\"data row6 col2\" >20.700000</td>\n",
       "                        <td id=\"T_37dc1a7e_235c_11eb_96d7_6af06691e534row6_col3\" class=\"data row6 col3\" >18.900000</td>\n",
       "                        <td id=\"T_37dc1a7e_235c_11eb_96d7_6af06691e534row6_col4\" class=\"data row6 col4\" >17.050000</td>\n",
       "                        <td id=\"T_37dc1a7e_235c_11eb_96d7_6af06691e534row6_col5\" class=\"data row6 col5\" >21.196000</td>\n",
       "            </tr>\n",
       "            <tr>\n",
       "                        <th id=\"T_37dc1a7e_235c_11eb_96d7_6af06691e534level0_row7\" class=\"row_heading level0 row7\" >O_num_commit_authored</th>\n",
       "                        <td id=\"T_37dc1a7e_235c_11eb_96d7_6af06691e534row7_col0\" class=\"data row7 col0\" >28.000000</td>\n",
       "                        <td id=\"T_37dc1a7e_235c_11eb_96d7_6af06691e534row7_col1\" class=\"data row7 col1\" >22.170000</td>\n",
       "                        <td id=\"T_37dc1a7e_235c_11eb_96d7_6af06691e534row7_col2\" class=\"data row7 col2\" >20.100000</td>\n",
       "                        <td id=\"T_37dc1a7e_235c_11eb_96d7_6af06691e534row7_col3\" class=\"data row7 col3\" >17.700000</td>\n",
       "                        <td id=\"T_37dc1a7e_235c_11eb_96d7_6af06691e534row7_col4\" class=\"data row7 col4\" >15.120000</td>\n",
       "                        <td id=\"T_37dc1a7e_235c_11eb_96d7_6af06691e534row7_col5\" class=\"data row7 col5\" >20.618000</td>\n",
       "            </tr>\n",
       "            <tr>\n",
       "                        <th id=\"T_37dc1a7e_235c_11eb_96d7_6af06691e534level0_row8\" class=\"row_heading level0 row8\" >code_2_comment</th>\n",
       "                        <td id=\"T_37dc1a7e_235c_11eb_96d7_6af06691e534row8_col0\" class=\"data row8 col0\" >27.500000</td>\n",
       "                        <td id=\"T_37dc1a7e_235c_11eb_96d7_6af06691e534row8_col1\" class=\"data row8 col1\" >22.170000</td>\n",
       "                        <td id=\"T_37dc1a7e_235c_11eb_96d7_6af06691e534row8_col2\" class=\"data row8 col2\" >22.200000</td>\n",
       "                        <td id=\"T_37dc1a7e_235c_11eb_96d7_6af06691e534row8_col3\" class=\"data row8 col3\" >19.400000</td>\n",
       "                        <td id=\"T_37dc1a7e_235c_11eb_96d7_6af06691e534row8_col4\" class=\"data row8 col4\" >17.120000</td>\n",
       "                        <td id=\"T_37dc1a7e_235c_11eb_96d7_6af06691e534row8_col5\" class=\"data row8 col5\" >21.678000</td>\n",
       "            </tr>\n",
       "            <tr>\n",
       "                        <th id=\"T_37dc1a7e_235c_11eb_96d7_6af06691e534level0_row9\" class=\"row_heading level0 row9\" >num_issue_assigned</th>\n",
       "                        <td id=\"T_37dc1a7e_235c_11eb_96d7_6af06691e534row9_col0\" class=\"data row9 col0\" >26.500000</td>\n",
       "                        <td id=\"T_37dc1a7e_235c_11eb_96d7_6af06691e534row9_col1\" class=\"data row9 col1\" >19.500000</td>\n",
       "                        <td id=\"T_37dc1a7e_235c_11eb_96d7_6af06691e534row9_col2\" class=\"data row9 col2\" >17.400000</td>\n",
       "                        <td id=\"T_37dc1a7e_235c_11eb_96d7_6af06691e534row9_col3\" class=\"data row9 col3\" >14.250000</td>\n",
       "                        <td id=\"T_37dc1a7e_235c_11eb_96d7_6af06691e534row9_col4\" class=\"data row9 col4\" >11.850000</td>\n",
       "                        <td id=\"T_37dc1a7e_235c_11eb_96d7_6af06691e534row9_col5\" class=\"data row9 col5\" >17.900000</td>\n",
       "            </tr>\n",
       "            <tr>\n",
       "                        <th id=\"T_37dc1a7e_235c_11eb_96d7_6af06691e534level0_row10\" class=\"row_heading level0 row10\" >num_issue_opened</th>\n",
       "                        <td id=\"T_37dc1a7e_235c_11eb_96d7_6af06691e534row10_col0\" class=\"data row10 col0\" >26.000000</td>\n",
       "                        <td id=\"T_37dc1a7e_235c_11eb_96d7_6af06691e534row10_col1\" class=\"data row10 col1\" >22.330000</td>\n",
       "                        <td id=\"T_37dc1a7e_235c_11eb_96d7_6af06691e534row10_col2\" class=\"data row10 col2\" >22.100000</td>\n",
       "                        <td id=\"T_37dc1a7e_235c_11eb_96d7_6af06691e534row10_col3\" class=\"data row10 col3\" >18.650000</td>\n",
       "                        <td id=\"T_37dc1a7e_235c_11eb_96d7_6af06691e534row10_col4\" class=\"data row10 col4\" >16.050000</td>\n",
       "                        <td id=\"T_37dc1a7e_235c_11eb_96d7_6af06691e534row10_col5\" class=\"data row10 col5\" >21.026000</td>\n",
       "            </tr>\n",
       "            <tr>\n",
       "                        <th id=\"T_37dc1a7e_235c_11eb_96d7_6af06691e534level0_row11\" class=\"row_heading level0 row11\" >num_commit_commented</th>\n",
       "                        <td id=\"T_37dc1a7e_235c_11eb_96d7_6af06691e534row11_col0\" class=\"data row11 col0\" >26.000000</td>\n",
       "                        <td id=\"T_37dc1a7e_235c_11eb_96d7_6af06691e534row11_col1\" class=\"data row11 col1\" >20.500000</td>\n",
       "                        <td id=\"T_37dc1a7e_235c_11eb_96d7_6af06691e534row11_col2\" class=\"data row11 col2\" >20.500000</td>\n",
       "                        <td id=\"T_37dc1a7e_235c_11eb_96d7_6af06691e534row11_col3\" class=\"data row11 col3\" >18.450000</td>\n",
       "                        <td id=\"T_37dc1a7e_235c_11eb_96d7_6af06691e534row11_col4\" class=\"data row11 col4\" >15.600000</td>\n",
       "                        <td id=\"T_37dc1a7e_235c_11eb_96d7_6af06691e534row11_col5\" class=\"data row11 col5\" >20.210000</td>\n",
       "            </tr>\n",
       "            <tr>\n",
       "                        <th id=\"T_37dc1a7e_235c_11eb_96d7_6af06691e534level0_row12\" class=\"row_heading level0 row12\" >commit_related</th>\n",
       "                        <td id=\"T_37dc1a7e_235c_11eb_96d7_6af06691e534row12_col0\" class=\"data row12 col0\" >26.000000</td>\n",
       "                        <td id=\"T_37dc1a7e_235c_11eb_96d7_6af06691e534row12_col1\" class=\"data row12 col1\" >20.170000</td>\n",
       "                        <td id=\"T_37dc1a7e_235c_11eb_96d7_6af06691e534row12_col2\" class=\"data row12 col2\" >19.400000</td>\n",
       "                        <td id=\"T_37dc1a7e_235c_11eb_96d7_6af06691e534row12_col3\" class=\"data row12 col3\" >19.000000</td>\n",
       "                        <td id=\"T_37dc1a7e_235c_11eb_96d7_6af06691e534row12_col4\" class=\"data row12 col4\" >16.120000</td>\n",
       "                        <td id=\"T_37dc1a7e_235c_11eb_96d7_6af06691e534row12_col5\" class=\"data row12 col5\" >20.138000</td>\n",
       "            </tr>\n",
       "            <tr>\n",
       "                        <th id=\"T_37dc1a7e_235c_11eb_96d7_6af06691e534level0_row13\" class=\"row_heading level0 row13\" >O_num_commit_committed</th>\n",
       "                        <td id=\"T_37dc1a7e_235c_11eb_96d7_6af06691e534row13_col0\" class=\"data row13 col0\" >25.500000</td>\n",
       "                        <td id=\"T_37dc1a7e_235c_11eb_96d7_6af06691e534row13_col1\" class=\"data row13 col1\" >24.330000</td>\n",
       "                        <td id=\"T_37dc1a7e_235c_11eb_96d7_6af06691e534row13_col2\" class=\"data row13 col2\" >20.500000</td>\n",
       "                        <td id=\"T_37dc1a7e_235c_11eb_96d7_6af06691e534row13_col3\" class=\"data row13 col3\" >18.100000</td>\n",
       "                        <td id=\"T_37dc1a7e_235c_11eb_96d7_6af06691e534row13_col4\" class=\"data row13 col4\" >15.180000</td>\n",
       "                        <td id=\"T_37dc1a7e_235c_11eb_96d7_6af06691e534row13_col5\" class=\"data row13 col5\" >20.722000</td>\n",
       "            </tr>\n",
       "            <tr>\n",
       "                        <th id=\"T_37dc1a7e_235c_11eb_96d7_6af06691e534level0_row14\" class=\"row_heading level0 row14\" >commit_2_comment</th>\n",
       "                        <td id=\"T_37dc1a7e_235c_11eb_96d7_6af06691e534row14_col0\" class=\"data row14 col0\" >25.000000</td>\n",
       "                        <td id=\"T_37dc1a7e_235c_11eb_96d7_6af06691e534row14_col1\" class=\"data row14 col1\" >20.830000</td>\n",
       "                        <td id=\"T_37dc1a7e_235c_11eb_96d7_6af06691e534row14_col2\" class=\"data row14 col2\" >18.300000</td>\n",
       "                        <td id=\"T_37dc1a7e_235c_11eb_96d7_6af06691e534row14_col3\" class=\"data row14 col3\" >14.350000</td>\n",
       "                        <td id=\"T_37dc1a7e_235c_11eb_96d7_6af06691e534row14_col4\" class=\"data row14 col4\" >12.180000</td>\n",
       "                        <td id=\"T_37dc1a7e_235c_11eb_96d7_6af06691e534row14_col5\" class=\"data row14 col5\" >18.132000</td>\n",
       "            </tr>\n",
       "            <tr>\n",
       "                        <th id=\"T_37dc1a7e_235c_11eb_96d7_6af06691e534level0_row15\" class=\"row_heading level0 row15\" >comment_2_code</th>\n",
       "                        <td id=\"T_37dc1a7e_235c_11eb_96d7_6af06691e534row15_col0\" class=\"data row15 col0\" >25.000000</td>\n",
       "                        <td id=\"T_37dc1a7e_235c_11eb_96d7_6af06691e534row15_col1\" class=\"data row15 col1\" >22.830000</td>\n",
       "                        <td id=\"T_37dc1a7e_235c_11eb_96d7_6af06691e534row15_col2\" class=\"data row15 col2\" >23.200000</td>\n",
       "                        <td id=\"T_37dc1a7e_235c_11eb_96d7_6af06691e534row15_col3\" class=\"data row15 col3\" >20.250000</td>\n",
       "                        <td id=\"T_37dc1a7e_235c_11eb_96d7_6af06691e534row15_col4\" class=\"data row15 col4\" >18.100000</td>\n",
       "                        <td id=\"T_37dc1a7e_235c_11eb_96d7_6af06691e534row15_col5\" class=\"data row15 col5\" >21.876000</td>\n",
       "            </tr>\n",
       "            <tr>\n",
       "                        <th id=\"T_37dc1a7e_235c_11eb_96d7_6af06691e534level0_row16\" class=\"row_heading level0 row16\" >O_num_pr_commented</th>\n",
       "                        <td id=\"T_37dc1a7e_235c_11eb_96d7_6af06691e534row16_col0\" class=\"data row16 col0\" >24.500000</td>\n",
       "                        <td id=\"T_37dc1a7e_235c_11eb_96d7_6af06691e534row16_col1\" class=\"data row16 col1\" >24.330000</td>\n",
       "                        <td id=\"T_37dc1a7e_235c_11eb_96d7_6af06691e534row16_col2\" class=\"data row16 col2\" >21.500000</td>\n",
       "                        <td id=\"T_37dc1a7e_235c_11eb_96d7_6af06691e534row16_col3\" class=\"data row16 col3\" >19.700000</td>\n",
       "                        <td id=\"T_37dc1a7e_235c_11eb_96d7_6af06691e534row16_col4\" class=\"data row16 col4\" >16.680000</td>\n",
       "                        <td id=\"T_37dc1a7e_235c_11eb_96d7_6af06691e534row16_col5\" class=\"data row16 col5\" >21.342000</td>\n",
       "            </tr>\n",
       "            <tr>\n",
       "                        <th id=\"T_37dc1a7e_235c_11eb_96d7_6af06691e534level0_row17\" class=\"row_heading level0 row17\" >issue_2_comment</th>\n",
       "                        <td id=\"T_37dc1a7e_235c_11eb_96d7_6af06691e534row17_col0\" class=\"data row17 col0\" >24.500000</td>\n",
       "                        <td id=\"T_37dc1a7e_235c_11eb_96d7_6af06691e534row17_col1\" class=\"data row17 col1\" >18.670000</td>\n",
       "                        <td id=\"T_37dc1a7e_235c_11eb_96d7_6af06691e534row17_col2\" class=\"data row17 col2\" >19.800000</td>\n",
       "                        <td id=\"T_37dc1a7e_235c_11eb_96d7_6af06691e534row17_col3\" class=\"data row17 col3\" >17.350000</td>\n",
       "                        <td id=\"T_37dc1a7e_235c_11eb_96d7_6af06691e534row17_col4\" class=\"data row17 col4\" >16.680000</td>\n",
       "                        <td id=\"T_37dc1a7e_235c_11eb_96d7_6af06691e534row17_col5\" class=\"data row17 col5\" >19.400000</td>\n",
       "            </tr>\n",
       "            <tr>\n",
       "                        <th id=\"T_37dc1a7e_235c_11eb_96d7_6af06691e534level0_row18\" class=\"row_heading level0 row18\" >code_contributions</th>\n",
       "                        <td id=\"T_37dc1a7e_235c_11eb_96d7_6af06691e534row18_col0\" class=\"data row18 col0\" >24.000000</td>\n",
       "                        <td id=\"T_37dc1a7e_235c_11eb_96d7_6af06691e534row18_col1\" class=\"data row18 col1\" >22.170000</td>\n",
       "                        <td id=\"T_37dc1a7e_235c_11eb_96d7_6af06691e534row18_col2\" class=\"data row18 col2\" >20.500000</td>\n",
       "                        <td id=\"T_37dc1a7e_235c_11eb_96d7_6af06691e534row18_col3\" class=\"data row18 col3\" >18.250000</td>\n",
       "                        <td id=\"T_37dc1a7e_235c_11eb_96d7_6af06691e534row18_col4\" class=\"data row18 col4\" >15.220000</td>\n",
       "                        <td id=\"T_37dc1a7e_235c_11eb_96d7_6af06691e534row18_col5\" class=\"data row18 col5\" >20.028000</td>\n",
       "            </tr>\n",
       "            <tr>\n",
       "                        <th id=\"T_37dc1a7e_235c_11eb_96d7_6af06691e534level0_row19\" class=\"row_heading level0 row19\" >pr_2_comment</th>\n",
       "                        <td id=\"T_37dc1a7e_235c_11eb_96d7_6af06691e534row19_col0\" class=\"data row19 col0\" >23.000000</td>\n",
       "                        <td id=\"T_37dc1a7e_235c_11eb_96d7_6af06691e534row19_col1\" class=\"data row19 col1\" >21.000000</td>\n",
       "                        <td id=\"T_37dc1a7e_235c_11eb_96d7_6af06691e534row19_col2\" class=\"data row19 col2\" >18.900000</td>\n",
       "                        <td id=\"T_37dc1a7e_235c_11eb_96d7_6af06691e534row19_col3\" class=\"data row19 col3\" >16.200000</td>\n",
       "                        <td id=\"T_37dc1a7e_235c_11eb_96d7_6af06691e534row19_col4\" class=\"data row19 col4\" >15.050000</td>\n",
       "                        <td id=\"T_37dc1a7e_235c_11eb_96d7_6af06691e534row19_col5\" class=\"data row19 col5\" >18.830000</td>\n",
       "            </tr>\n",
       "            <tr>\n",
       "                        <th id=\"T_37dc1a7e_235c_11eb_96d7_6af06691e534level0_row20\" class=\"row_heading level0 row20\" >comments</th>\n",
       "                        <td id=\"T_37dc1a7e_235c_11eb_96d7_6af06691e534row20_col0\" class=\"data row20 col0\" >22.000000</td>\n",
       "                        <td id=\"T_37dc1a7e_235c_11eb_96d7_6af06691e534row20_col1\" class=\"data row20 col1\" >20.000000</td>\n",
       "                        <td id=\"T_37dc1a7e_235c_11eb_96d7_6af06691e534row20_col2\" class=\"data row20 col2\" >19.300000</td>\n",
       "                        <td id=\"T_37dc1a7e_235c_11eb_96d7_6af06691e534row20_col3\" class=\"data row20 col3\" >16.950000</td>\n",
       "                        <td id=\"T_37dc1a7e_235c_11eb_96d7_6af06691e534row20_col4\" class=\"data row20 col4\" >14.750000</td>\n",
       "                        <td id=\"T_37dc1a7e_235c_11eb_96d7_6af06691e534row20_col5\" class=\"data row20 col5\" >18.600000</td>\n",
       "            </tr>\n",
       "            <tr>\n",
       "                        <th id=\"T_37dc1a7e_235c_11eb_96d7_6af06691e534level0_row21\" class=\"row_heading level0 row21\" >pr_related</th>\n",
       "                        <td id=\"T_37dc1a7e_235c_11eb_96d7_6af06691e534row21_col0\" class=\"data row21 col0\" >22.000000</td>\n",
       "                        <td id=\"T_37dc1a7e_235c_11eb_96d7_6af06691e534row21_col1\" class=\"data row21 col1\" >26.500000</td>\n",
       "                        <td id=\"T_37dc1a7e_235c_11eb_96d7_6af06691e534row21_col2\" class=\"data row21 col2\" >23.900000</td>\n",
       "                        <td id=\"T_37dc1a7e_235c_11eb_96d7_6af06691e534row21_col3\" class=\"data row21 col3\" >20.100000</td>\n",
       "                        <td id=\"T_37dc1a7e_235c_11eb_96d7_6af06691e534row21_col4\" class=\"data row21 col4\" >17.020000</td>\n",
       "                        <td id=\"T_37dc1a7e_235c_11eb_96d7_6af06691e534row21_col5\" class=\"data row21 col5\" >21.904000</td>\n",
       "            </tr>\n",
       "            <tr>\n",
       "                        <th id=\"T_37dc1a7e_235c_11eb_96d7_6af06691e534level0_row22\" class=\"row_heading level0 row22\" >binary_code_contributions</th>\n",
       "                        <td id=\"T_37dc1a7e_235c_11eb_96d7_6af06691e534row22_col0\" class=\"data row22 col0\" >22.000000</td>\n",
       "                        <td id=\"T_37dc1a7e_235c_11eb_96d7_6af06691e534row22_col1\" class=\"data row22 col1\" >23.000000</td>\n",
       "                        <td id=\"T_37dc1a7e_235c_11eb_96d7_6af06691e534row22_col2\" class=\"data row22 col2\" >20.700000</td>\n",
       "                        <td id=\"T_37dc1a7e_235c_11eb_96d7_6af06691e534row22_col3\" class=\"data row22 col3\" >18.050000</td>\n",
       "                        <td id=\"T_37dc1a7e_235c_11eb_96d7_6af06691e534row22_col4\" class=\"data row22 col4\" >16.500000</td>\n",
       "                        <td id=\"T_37dc1a7e_235c_11eb_96d7_6af06691e534row22_col5\" class=\"data row22 col5\" >20.050000</td>\n",
       "            </tr>\n",
       "            <tr>\n",
       "                        <th id=\"T_37dc1a7e_235c_11eb_96d7_6af06691e534level0_row23\" class=\"row_heading level0 row23\" >num_issue_commented</th>\n",
       "                        <td id=\"T_37dc1a7e_235c_11eb_96d7_6af06691e534row23_col0\" class=\"data row23 col0\" >22.000000</td>\n",
       "                        <td id=\"T_37dc1a7e_235c_11eb_96d7_6af06691e534row23_col1\" class=\"data row23 col1\" >18.830000</td>\n",
       "                        <td id=\"T_37dc1a7e_235c_11eb_96d7_6af06691e534row23_col2\" class=\"data row23 col2\" >18.200000</td>\n",
       "                        <td id=\"T_37dc1a7e_235c_11eb_96d7_6af06691e534row23_col3\" class=\"data row23 col3\" >16.950000</td>\n",
       "                        <td id=\"T_37dc1a7e_235c_11eb_96d7_6af06691e534row23_col4\" class=\"data row23 col4\" >15.080000</td>\n",
       "                        <td id=\"T_37dc1a7e_235c_11eb_96d7_6af06691e534row23_col5\" class=\"data row23 col5\" >18.212000</td>\n",
       "            </tr>\n",
       "            <tr>\n",
       "                        <th id=\"T_37dc1a7e_235c_11eb_96d7_6af06691e534level0_row24\" class=\"row_heading level0 row24\" >O_num_commit_commented</th>\n",
       "                        <td id=\"T_37dc1a7e_235c_11eb_96d7_6af06691e534row24_col0\" class=\"data row24 col0\" >21.500000</td>\n",
       "                        <td id=\"T_37dc1a7e_235c_11eb_96d7_6af06691e534row24_col1\" class=\"data row24 col1\" >19.330000</td>\n",
       "                        <td id=\"T_37dc1a7e_235c_11eb_96d7_6af06691e534row24_col2\" class=\"data row24 col2\" >17.800000</td>\n",
       "                        <td id=\"T_37dc1a7e_235c_11eb_96d7_6af06691e534row24_col3\" class=\"data row24 col3\" >16.650000</td>\n",
       "                        <td id=\"T_37dc1a7e_235c_11eb_96d7_6af06691e534row24_col4\" class=\"data row24 col4\" >15.820000</td>\n",
       "                        <td id=\"T_37dc1a7e_235c_11eb_96d7_6af06691e534row24_col5\" class=\"data row24 col5\" >18.220000</td>\n",
       "            </tr>\n",
       "            <tr>\n",
       "                        <th id=\"T_37dc1a7e_235c_11eb_96d7_6af06691e534level0_row25\" class=\"row_heading level0 row25\" >O_num_issue_closedPR</th>\n",
       "                        <td id=\"T_37dc1a7e_235c_11eb_96d7_6af06691e534row25_col0\" class=\"data row25 col0\" >21.000000</td>\n",
       "                        <td id=\"T_37dc1a7e_235c_11eb_96d7_6af06691e534row25_col1\" class=\"data row25 col1\" >18.330000</td>\n",
       "                        <td id=\"T_37dc1a7e_235c_11eb_96d7_6af06691e534row25_col2\" class=\"data row25 col2\" >16.600000</td>\n",
       "                        <td id=\"T_37dc1a7e_235c_11eb_96d7_6af06691e534row25_col3\" class=\"data row25 col3\" >14.500000</td>\n",
       "                        <td id=\"T_37dc1a7e_235c_11eb_96d7_6af06691e534row25_col4\" class=\"data row25 col4\" >12.820000</td>\n",
       "                        <td id=\"T_37dc1a7e_235c_11eb_96d7_6af06691e534row25_col5\" class=\"data row25 col5\" >16.650000</td>\n",
       "            </tr>\n",
       "            <tr>\n",
       "                        <th id=\"T_37dc1a7e_235c_11eb_96d7_6af06691e534level0_row26\" class=\"row_heading level0 row26\" >num_issue_closed</th>\n",
       "                        <td id=\"T_37dc1a7e_235c_11eb_96d7_6af06691e534row26_col0\" class=\"data row26 col0\" >20.000000</td>\n",
       "                        <td id=\"T_37dc1a7e_235c_11eb_96d7_6af06691e534row26_col1\" class=\"data row26 col1\" >17.670000</td>\n",
       "                        <td id=\"T_37dc1a7e_235c_11eb_96d7_6af06691e534row26_col2\" class=\"data row26 col2\" >14.800000</td>\n",
       "                        <td id=\"T_37dc1a7e_235c_11eb_96d7_6af06691e534row26_col3\" class=\"data row26 col3\" >13.150000</td>\n",
       "                        <td id=\"T_37dc1a7e_235c_11eb_96d7_6af06691e534row26_col4\" class=\"data row26 col4\" >11.550000</td>\n",
       "                        <td id=\"T_37dc1a7e_235c_11eb_96d7_6af06691e534row26_col5\" class=\"data row26 col5\" >15.434000</td>\n",
       "            </tr>\n",
       "            <tr>\n",
       "                        <th id=\"T_37dc1a7e_235c_11eb_96d7_6af06691e534level0_row27\" class=\"row_heading level0 row27\" >num_pr_commented</th>\n",
       "                        <td id=\"T_37dc1a7e_235c_11eb_96d7_6af06691e534row27_col0\" class=\"data row27 col0\" >20.000000</td>\n",
       "                        <td id=\"T_37dc1a7e_235c_11eb_96d7_6af06691e534row27_col1\" class=\"data row27 col1\" >21.830000</td>\n",
       "                        <td id=\"T_37dc1a7e_235c_11eb_96d7_6af06691e534row27_col2\" class=\"data row27 col2\" >20.100000</td>\n",
       "                        <td id=\"T_37dc1a7e_235c_11eb_96d7_6af06691e534row27_col3\" class=\"data row27 col3\" >18.600000</td>\n",
       "                        <td id=\"T_37dc1a7e_235c_11eb_96d7_6af06691e534row27_col4\" class=\"data row27 col4\" >16.150000</td>\n",
       "                        <td id=\"T_37dc1a7e_235c_11eb_96d7_6af06691e534row27_col5\" class=\"data row27 col5\" >19.336000</td>\n",
       "            </tr>\n",
       "            <tr>\n",
       "                        <th id=\"T_37dc1a7e_235c_11eb_96d7_6af06691e534level0_row28\" class=\"row_heading level0 row28\" >O_num_pr_merged</th>\n",
       "                        <td id=\"T_37dc1a7e_235c_11eb_96d7_6af06691e534row28_col0\" class=\"data row28 col0\" >19.500000</td>\n",
       "                        <td id=\"T_37dc1a7e_235c_11eb_96d7_6af06691e534row28_col1\" class=\"data row28 col1\" >16.670000</td>\n",
       "                        <td id=\"T_37dc1a7e_235c_11eb_96d7_6af06691e534row28_col2\" class=\"data row28 col2\" >14.700000</td>\n",
       "                        <td id=\"T_37dc1a7e_235c_11eb_96d7_6af06691e534row28_col3\" class=\"data row28 col3\" >13.450000</td>\n",
       "                        <td id=\"T_37dc1a7e_235c_11eb_96d7_6af06691e534row28_col4\" class=\"data row28 col4\" >13.350000</td>\n",
       "                        <td id=\"T_37dc1a7e_235c_11eb_96d7_6af06691e534row28_col5\" class=\"data row28 col5\" >15.534000</td>\n",
       "            </tr>\n",
       "            <tr>\n",
       "                        <th id=\"T_37dc1a7e_235c_11eb_96d7_6af06691e534level0_row29\" class=\"row_heading level0 row29\" >issue_related</th>\n",
       "                        <td id=\"T_37dc1a7e_235c_11eb_96d7_6af06691e534row29_col0\" class=\"data row29 col0\" >18.500000</td>\n",
       "                        <td id=\"T_37dc1a7e_235c_11eb_96d7_6af06691e534row29_col1\" class=\"data row29 col1\" >16.500000</td>\n",
       "                        <td id=\"T_37dc1a7e_235c_11eb_96d7_6af06691e534row29_col2\" class=\"data row29 col2\" >17.000000</td>\n",
       "                        <td id=\"T_37dc1a7e_235c_11eb_96d7_6af06691e534row29_col3\" class=\"data row29 col3\" >15.200000</td>\n",
       "                        <td id=\"T_37dc1a7e_235c_11eb_96d7_6af06691e534row29_col4\" class=\"data row29 col4\" >13.680000</td>\n",
       "                        <td id=\"T_37dc1a7e_235c_11eb_96d7_6af06691e534row29_col5\" class=\"data row29 col5\" >16.176000</td>\n",
       "            </tr>\n",
       "            <tr>\n",
       "                        <th id=\"T_37dc1a7e_235c_11eb_96d7_6af06691e534level0_row30\" class=\"row_heading level0 row30\" >binary_count</th>\n",
       "                        <td id=\"T_37dc1a7e_235c_11eb_96d7_6af06691e534row30_col0\" class=\"data row30 col0\" >18.000000</td>\n",
       "                        <td id=\"T_37dc1a7e_235c_11eb_96d7_6af06691e534row30_col1\" class=\"data row30 col1\" >17.830000</td>\n",
       "                        <td id=\"T_37dc1a7e_235c_11eb_96d7_6af06691e534row30_col2\" class=\"data row30 col2\" >17.900000</td>\n",
       "                        <td id=\"T_37dc1a7e_235c_11eb_96d7_6af06691e534row30_col3\" class=\"data row30 col3\" >16.100000</td>\n",
       "                        <td id=\"T_37dc1a7e_235c_11eb_96d7_6af06691e534row30_col4\" class=\"data row30 col4\" >14.780000</td>\n",
       "                        <td id=\"T_37dc1a7e_235c_11eb_96d7_6af06691e534row30_col5\" class=\"data row30 col5\" >16.922000</td>\n",
       "            </tr>\n",
       "            <tr>\n",
       "                        <th id=\"T_37dc1a7e_235c_11eb_96d7_6af06691e534level0_row31\" class=\"row_heading level0 row31\" >O_num_pr_opened</th>\n",
       "                        <td id=\"T_37dc1a7e_235c_11eb_96d7_6af06691e534row31_col0\" class=\"data row31 col0\" >17.500000</td>\n",
       "                        <td id=\"T_37dc1a7e_235c_11eb_96d7_6af06691e534row31_col1\" class=\"data row31 col1\" >18.170000</td>\n",
       "                        <td id=\"T_37dc1a7e_235c_11eb_96d7_6af06691e534row31_col2\" class=\"data row31 col2\" >17.000000</td>\n",
       "                        <td id=\"T_37dc1a7e_235c_11eb_96d7_6af06691e534row31_col3\" class=\"data row31 col3\" >15.250000</td>\n",
       "                        <td id=\"T_37dc1a7e_235c_11eb_96d7_6af06691e534row31_col4\" class=\"data row31 col4\" >13.400000</td>\n",
       "                        <td id=\"T_37dc1a7e_235c_11eb_96d7_6af06691e534row31_col5\" class=\"data row31 col5\" >16.264000</td>\n",
       "            </tr>\n",
       "            <tr>\n",
       "                        <th id=\"T_37dc1a7e_235c_11eb_96d7_6af06691e534level0_row32\" class=\"row_heading level0 row32\" >binary_comments</th>\n",
       "                        <td id=\"T_37dc1a7e_235c_11eb_96d7_6af06691e534row32_col0\" class=\"data row32 col0\" >17.500000</td>\n",
       "                        <td id=\"T_37dc1a7e_235c_11eb_96d7_6af06691e534row32_col1\" class=\"data row32 col1\" >18.170000</td>\n",
       "                        <td id=\"T_37dc1a7e_235c_11eb_96d7_6af06691e534row32_col2\" class=\"data row32 col2\" >18.800000</td>\n",
       "                        <td id=\"T_37dc1a7e_235c_11eb_96d7_6af06691e534row32_col3\" class=\"data row32 col3\" >17.600000</td>\n",
       "                        <td id=\"T_37dc1a7e_235c_11eb_96d7_6af06691e534row32_col4\" class=\"data row32 col4\" >15.400000</td>\n",
       "                        <td id=\"T_37dc1a7e_235c_11eb_96d7_6af06691e534row32_col5\" class=\"data row32 col5\" >17.494000</td>\n",
       "            </tr>\n",
       "            <tr>\n",
       "                        <th id=\"T_37dc1a7e_235c_11eb_96d7_6af06691e534level0_row33\" class=\"row_heading level0 row33\" >count</th>\n",
       "                        <td id=\"T_37dc1a7e_235c_11eb_96d7_6af06691e534row33_col0\" class=\"data row33 col0\" >17.500000</td>\n",
       "                        <td id=\"T_37dc1a7e_235c_11eb_96d7_6af06691e534row33_col1\" class=\"data row33 col1\" >18.000000</td>\n",
       "                        <td id=\"T_37dc1a7e_235c_11eb_96d7_6af06691e534row33_col2\" class=\"data row33 col2\" >16.500000</td>\n",
       "                        <td id=\"T_37dc1a7e_235c_11eb_96d7_6af06691e534row33_col3\" class=\"data row33 col3\" >14.500000</td>\n",
       "                        <td id=\"T_37dc1a7e_235c_11eb_96d7_6af06691e534row33_col4\" class=\"data row33 col4\" >13.920000</td>\n",
       "                        <td id=\"T_37dc1a7e_235c_11eb_96d7_6af06691e534row33_col5\" class=\"data row33 col5\" >16.084000</td>\n",
       "            </tr>\n",
       "            <tr>\n",
       "                        <th id=\"T_37dc1a7e_235c_11eb_96d7_6af06691e534level0_row34\" class=\"row_heading level0 row34\" >O_num_issue_assigned</th>\n",
       "                        <td id=\"T_37dc1a7e_235c_11eb_96d7_6af06691e534row34_col0\" class=\"data row34 col0\" >17.000000</td>\n",
       "                        <td id=\"T_37dc1a7e_235c_11eb_96d7_6af06691e534row34_col1\" class=\"data row34 col1\" >17.500000</td>\n",
       "                        <td id=\"T_37dc1a7e_235c_11eb_96d7_6af06691e534row34_col2\" class=\"data row34 col2\" >14.400000</td>\n",
       "                        <td id=\"T_37dc1a7e_235c_11eb_96d7_6af06691e534row34_col3\" class=\"data row34 col3\" >12.700000</td>\n",
       "                        <td id=\"T_37dc1a7e_235c_11eb_96d7_6af06691e534row34_col4\" class=\"data row34 col4\" >10.320000</td>\n",
       "                        <td id=\"T_37dc1a7e_235c_11eb_96d7_6af06691e534row34_col5\" class=\"data row34 col5\" >14.384000</td>\n",
       "            </tr>\n",
       "            <tr>\n",
       "                        <th id=\"T_37dc1a7e_235c_11eb_96d7_6af06691e534level0_row35\" class=\"row_heading level0 row35\" >O_num_issue_opened</th>\n",
       "                        <td id=\"T_37dc1a7e_235c_11eb_96d7_6af06691e534row35_col0\" class=\"data row35 col0\" >16.500000</td>\n",
       "                        <td id=\"T_37dc1a7e_235c_11eb_96d7_6af06691e534row35_col1\" class=\"data row35 col1\" >15.830000</td>\n",
       "                        <td id=\"T_37dc1a7e_235c_11eb_96d7_6af06691e534row35_col2\" class=\"data row35 col2\" >15.600000</td>\n",
       "                        <td id=\"T_37dc1a7e_235c_11eb_96d7_6af06691e534row35_col3\" class=\"data row35 col3\" >13.000000</td>\n",
       "                        <td id=\"T_37dc1a7e_235c_11eb_96d7_6af06691e534row35_col4\" class=\"data row35 col4\" >12.650000</td>\n",
       "                        <td id=\"T_37dc1a7e_235c_11eb_96d7_6af06691e534row35_col5\" class=\"data row35 col5\" >14.716000</td>\n",
       "            </tr>\n",
       "            <tr>\n",
       "                        <th id=\"T_37dc1a7e_235c_11eb_96d7_6af06691e534level0_row36\" class=\"row_heading level0 row36\" >binary_issue_related</th>\n",
       "                        <td id=\"T_37dc1a7e_235c_11eb_96d7_6af06691e534row36_col0\" class=\"data row36 col0\" >15.000000</td>\n",
       "                        <td id=\"T_37dc1a7e_235c_11eb_96d7_6af06691e534row36_col1\" class=\"data row36 col1\" >17.000000</td>\n",
       "                        <td id=\"T_37dc1a7e_235c_11eb_96d7_6af06691e534row36_col2\" class=\"data row36 col2\" >17.700000</td>\n",
       "                        <td id=\"T_37dc1a7e_235c_11eb_96d7_6af06691e534row36_col3\" class=\"data row36 col3\" >16.400000</td>\n",
       "                        <td id=\"T_37dc1a7e_235c_11eb_96d7_6af06691e534row36_col4\" class=\"data row36 col4\" >14.980000</td>\n",
       "                        <td id=\"T_37dc1a7e_235c_11eb_96d7_6af06691e534row36_col5\" class=\"data row36 col5\" >16.216000</td>\n",
       "            </tr>\n",
       "            <tr>\n",
       "                        <th id=\"T_37dc1a7e_235c_11eb_96d7_6af06691e534level0_row37\" class=\"row_heading level0 row37\" >O_num_issue_commented</th>\n",
       "                        <td id=\"T_37dc1a7e_235c_11eb_96d7_6af06691e534row37_col0\" class=\"data row37 col0\" >15.000000</td>\n",
       "                        <td id=\"T_37dc1a7e_235c_11eb_96d7_6af06691e534row37_col1\" class=\"data row37 col1\" >13.670000</td>\n",
       "                        <td id=\"T_37dc1a7e_235c_11eb_96d7_6af06691e534row37_col2\" class=\"data row37 col2\" >13.000000</td>\n",
       "                        <td id=\"T_37dc1a7e_235c_11eb_96d7_6af06691e534row37_col3\" class=\"data row37 col3\" >12.250000</td>\n",
       "                        <td id=\"T_37dc1a7e_235c_11eb_96d7_6af06691e534row37_col4\" class=\"data row37 col4\" >11.100000</td>\n",
       "                        <td id=\"T_37dc1a7e_235c_11eb_96d7_6af06691e534row37_col5\" class=\"data row37 col5\" >13.004000</td>\n",
       "            </tr>\n",
       "            <tr>\n",
       "                        <th id=\"T_37dc1a7e_235c_11eb_96d7_6af06691e534level0_row38\" class=\"row_heading level0 row38\" >O_num_pr_assigned</th>\n",
       "                        <td id=\"T_37dc1a7e_235c_11eb_96d7_6af06691e534row38_col0\" class=\"data row38 col0\" >14.000000</td>\n",
       "                        <td id=\"T_37dc1a7e_235c_11eb_96d7_6af06691e534row38_col1\" class=\"data row38 col1\" >10.000000</td>\n",
       "                        <td id=\"T_37dc1a7e_235c_11eb_96d7_6af06691e534row38_col2\" class=\"data row38 col2\" >9.100000</td>\n",
       "                        <td id=\"T_37dc1a7e_235c_11eb_96d7_6af06691e534row38_col3\" class=\"data row38 col3\" >9.600000</td>\n",
       "                        <td id=\"T_37dc1a7e_235c_11eb_96d7_6af06691e534row38_col4\" class=\"data row38 col4\" >7.780000</td>\n",
       "                        <td id=\"T_37dc1a7e_235c_11eb_96d7_6af06691e534row38_col5\" class=\"data row38 col5\" >10.096000</td>\n",
       "            </tr>\n",
       "            <tr>\n",
       "                        <th id=\"T_37dc1a7e_235c_11eb_96d7_6af06691e534level0_row39\" class=\"row_heading level0 row39\" >O_num_issue_closed</th>\n",
       "                        <td id=\"T_37dc1a7e_235c_11eb_96d7_6af06691e534row39_col0\" class=\"data row39 col0\" >13.000000</td>\n",
       "                        <td id=\"T_37dc1a7e_235c_11eb_96d7_6af06691e534row39_col1\" class=\"data row39 col1\" >10.830000</td>\n",
       "                        <td id=\"T_37dc1a7e_235c_11eb_96d7_6af06691e534row39_col2\" class=\"data row39 col2\" >10.200000</td>\n",
       "                        <td id=\"T_37dc1a7e_235c_11eb_96d7_6af06691e534row39_col3\" class=\"data row39 col3\" >10.400000</td>\n",
       "                        <td id=\"T_37dc1a7e_235c_11eb_96d7_6af06691e534row39_col4\" class=\"data row39 col4\" >9.020000</td>\n",
       "                        <td id=\"T_37dc1a7e_235c_11eb_96d7_6af06691e534row39_col5\" class=\"data row39 col5\" >10.690000</td>\n",
       "            </tr>\n",
       "            <tr>\n",
       "                        <th id=\"T_37dc1a7e_235c_11eb_96d7_6af06691e534level0_row40\" class=\"row_heading level0 row40\" >num_pr_assigned</th>\n",
       "                        <td id=\"T_37dc1a7e_235c_11eb_96d7_6af06691e534row40_col0\" class=\"data row40 col0\" >12.500000</td>\n",
       "                        <td id=\"T_37dc1a7e_235c_11eb_96d7_6af06691e534row40_col1\" class=\"data row40 col1\" >10.670000</td>\n",
       "                        <td id=\"T_37dc1a7e_235c_11eb_96d7_6af06691e534row40_col2\" class=\"data row40 col2\" >9.300000</td>\n",
       "                        <td id=\"T_37dc1a7e_235c_11eb_96d7_6af06691e534row40_col3\" class=\"data row40 col3\" >8.500000</td>\n",
       "                        <td id=\"T_37dc1a7e_235c_11eb_96d7_6af06691e534row40_col4\" class=\"data row40 col4\" >7.550000</td>\n",
       "                        <td id=\"T_37dc1a7e_235c_11eb_96d7_6af06691e534row40_col5\" class=\"data row40 col5\" >9.704000</td>\n",
       "            </tr>\n",
       "            <tr>\n",
       "                        <th id=\"T_37dc1a7e_235c_11eb_96d7_6af06691e534level0_row41\" class=\"row_heading level0 row41\" >isin_top_lang_committed</th>\n",
       "                        <td id=\"T_37dc1a7e_235c_11eb_96d7_6af06691e534row41_col0\" class=\"data row41 col0\" >9.000000</td>\n",
       "                        <td id=\"T_37dc1a7e_235c_11eb_96d7_6af06691e534row41_col1\" class=\"data row41 col1\" >10.500000</td>\n",
       "                        <td id=\"T_37dc1a7e_235c_11eb_96d7_6af06691e534row41_col2\" class=\"data row41 col2\" >10.500000</td>\n",
       "                        <td id=\"T_37dc1a7e_235c_11eb_96d7_6af06691e534row41_col3\" class=\"data row41 col3\" >8.150000</td>\n",
       "                        <td id=\"T_37dc1a7e_235c_11eb_96d7_6af06691e534row41_col4\" class=\"data row41 col4\" >7.550000</td>\n",
       "                        <td id=\"T_37dc1a7e_235c_11eb_96d7_6af06691e534row41_col5\" class=\"data row41 col5\" >9.140000</td>\n",
       "            </tr>\n",
       "            <tr>\n",
       "                        <th id=\"T_37dc1a7e_235c_11eb_96d7_6af06691e534level0_row42\" class=\"row_heading level0 row42\" >isin_top_lang_owned</th>\n",
       "                        <td id=\"T_37dc1a7e_235c_11eb_96d7_6af06691e534row42_col0\" class=\"data row42 col0\" >4.000000</td>\n",
       "                        <td id=\"T_37dc1a7e_235c_11eb_96d7_6af06691e534row42_col1\" class=\"data row42 col1\" >2.500000</td>\n",
       "                        <td id=\"T_37dc1a7e_235c_11eb_96d7_6af06691e534row42_col2\" class=\"data row42 col2\" >3.600000</td>\n",
       "                        <td id=\"T_37dc1a7e_235c_11eb_96d7_6af06691e534row42_col3\" class=\"data row42 col3\" >3.550000</td>\n",
       "                        <td id=\"T_37dc1a7e_235c_11eb_96d7_6af06691e534row42_col4\" class=\"data row42 col4\" >4.380000</td>\n",
       "                        <td id=\"T_37dc1a7e_235c_11eb_96d7_6af06691e534row42_col5\" class=\"data row42 col5\" >3.606000</td>\n",
       "            </tr>\n",
       "            <tr>\n",
       "                        <th id=\"T_37dc1a7e_235c_11eb_96d7_6af06691e534level0_row43\" class=\"row_heading level0 row43\" >isin_top_lang_watched</th>\n",
       "                        <td id=\"T_37dc1a7e_235c_11eb_96d7_6af06691e534row43_col0\" class=\"data row43 col0\" >2.000000</td>\n",
       "                        <td id=\"T_37dc1a7e_235c_11eb_96d7_6af06691e534row43_col1\" class=\"data row43 col1\" >2.170000</td>\n",
       "                        <td id=\"T_37dc1a7e_235c_11eb_96d7_6af06691e534row43_col2\" class=\"data row43 col2\" >2.100000</td>\n",
       "                        <td id=\"T_37dc1a7e_235c_11eb_96d7_6af06691e534row43_col3\" class=\"data row43 col3\" >2.900000</td>\n",
       "                        <td id=\"T_37dc1a7e_235c_11eb_96d7_6af06691e534row43_col4\" class=\"data row43 col4\" >3.780000</td>\n",
       "                        <td id=\"T_37dc1a7e_235c_11eb_96d7_6af06691e534row43_col5\" class=\"data row43 col5\" >2.590000</td>\n",
       "            </tr>\n",
       "    </tbody></table>"
      ],
      "text/plain": [
       "<pandas.io.formats.style.Styler at 0x7fc8cba398d0>"
      ]
     },
     "execution_count": 8,
     "metadata": {},
     "output_type": "execute_result"
    }
   ],
   "source": [
    "file = \"/Users/kadir/jupyter-notebook/DeveloperMetrics/data/comment_similarity_scores_ALL_developer_metrics_hit_top_1.csv\"\n",
    "dftop1 = pd.read_csv(file)\n",
    "dftop1.sort_values(by=['hit_top_1'], ascending = 0, inplace=True)\n",
    "\n",
    "file = \"/Users/kadir/jupyter-notebook/DeveloperMetrics/data/comment_similarity_scores_ALL_developer_metrics_hit_top_3.csv\"\n",
    "dftop3 = pd.read_csv(file)\n",
    "dftop3.sort_values(by=['hit_top_3'], ascending = 0, inplace=True)\n",
    "\n",
    "file = \"/Users/kadir/jupyter-notebook/DeveloperMetrics/data/comment_similarity_scores_ALL_developer_metrics_hit_top_5.csv\"\n",
    "dftop5 = pd.read_csv(file)\n",
    "dftop5.sort_values(by=['hit_top_5'], ascending = 0, inplace=True)\n",
    "\n",
    "file = \"/Users/kadir/jupyter-notebook/DeveloperMetrics/data/comment_similarity_scores_ALL_developer_metrics_hit_top_10.csv\"\n",
    "dftop10 = pd.read_csv(file)\n",
    "dftop10.sort_values(by=['hit_top_10'], ascending = 0, inplace=True)\n",
    "\n",
    "file = \"/Users/kadir/jupyter-notebook/DeveloperMetrics/data/comment_similarity_scores_ALL_developer_metrics_hit_top_20.csv\"\n",
    "dftop20 = pd.read_csv(file)\n",
    "dftop20.sort_values(by=['hit_top_20'], ascending = 0, inplace=True)\n",
    "\n",
    "result = pd.merge(dftop1, dftop3, how=\"left\", on=\"metric\")\n",
    "result = pd.merge(result, dftop5, how=\"left\", on=\"metric\")\n",
    "result = pd.merge(result, dftop10, how=\"left\", on=\"metric\")\n",
    "result = pd.merge(result, dftop20, how=\"left\", on=\"metric\")\n",
    "\n",
    "# WE ADD THIS SCORES MANUALLY.... '!!!!!!'\n",
    "\n",
    "#add to sun's papers metric scores. (from features_of_ref10)\n",
    "#new_row = {'metric':'Sun\\'s metric', \n",
    "#           'hit_top_1':8.00, 'hit_top_3':6.60, 'hit_top_5':7.10, 'hit_top_10':7.35, 'hit_top_20':6.5}\n",
    "#result = result.append(new_row, ignore_index=True)\n",
    "\n",
    "#add mean of topk scores to each metric\n",
    "result['mean'] = result.mean(axis=1)\n",
    "result.set_index('metric', inplace=True)\n",
    "result.style.apply(highlight_max)"
   ]
  },
  {
   "cell_type": "code",
   "execution_count": null,
   "metadata": {},
   "outputs": [],
   "source": [
    "comment_similarity_"
   ]
  },
  {
   "cell_type": "code",
   "execution_count": null,
   "metadata": {},
   "outputs": [],
   "source": []
  }
 ],
 "metadata": {
  "kernelspec": {
   "display_name": "Python 3",
   "language": "python",
   "name": "python3"
  },
  "language_info": {
   "codemirror_mode": {
    "name": "ipython",
    "version": 3
   },
   "file_extension": ".py",
   "mimetype": "text/x-python",
   "name": "python",
   "nbconvert_exporter": "python",
   "pygments_lexer": "ipython3",
   "version": "3.8.5"
  }
 },
 "nbformat": 4,
 "nbformat_minor": 2
}
